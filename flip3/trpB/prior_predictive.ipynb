{
 "cells": [
  {
   "cell_type": "code",
   "execution_count": null,
   "metadata": {},
   "outputs": [],
   "source": [
    "from model import load_trpb_dataset, TrpBGrowthModel"
   ]
  },
  {
   "cell_type": "markdown",
   "metadata": {},
   "source": [
    "Prior predictive check for the TrpB datasets."
   ]
  },
  {
   "cell_type": "code",
   "execution_count": 3,
   "metadata": {},
   "outputs": [
    {
     "data": {
      "application/vnd.jupyter.widget-view+json": {
       "model_id": "781cb0925de44511bd9ff0a57effcaa2",
       "version_major": 2,
       "version_minor": 0
      },
      "text/plain": [
       "BokehModel(combine_events=True, render_bundle={'docs_json': {'4abd38f0-d9f6-4f66-bff3-18733b6b6cf5': {'version…"
      ]
     },
     "execution_count": 3,
     "metadata": {},
     "output_type": "execute_result"
    }
   ],
   "source": [
    "data = load_trpb_dataset(\n",
    "    \"~/GitRepos/DMSStan/raw_data/trpb/3-site_merged_replicates/LibI/20230926/LibI_merged_AAs.csv\"\n",
    ")\n",
    "model = TrpBGrowthModel(**data)\n",
    "model.prior_predictive()"
   ]
  },
  {
   "cell_type": "markdown",
   "metadata": {},
   "source": [
    "# MAP"
   ]
  },
  {
   "cell_type": "markdown",
   "metadata": {},
   "source": [
    "Now that we've selected our priors, we're ready to identify the MAP:"
   ]
  },
  {
   "cell_type": "code",
   "execution_count": null,
   "metadata": {},
   "outputs": [],
   "source": [
    "map_ = model.approximate_map()\n",
    "map_.plot_loss_curve()"
   ]
  },
  {
   "cell_type": "markdown",
   "metadata": {},
   "source": [
    "# MCMC"
   ]
  },
  {
   "cell_type": "markdown",
   "metadata": {},
   "source": [
    "We can now use Stan to sample from the posterior:"
   ]
  },
  {
   "cell_type": "code",
   "execution_count": null,
   "metadata": {},
   "outputs": [
    {
     "name": "stderr",
     "output_type": "stream",
     "text": [
      "20:42:02 - cmdstanpy - INFO - compiling stan file /home/bwittmann/GitRepos/DMSStan/flip3/trpB/tmp/model.stan to exe file /home/bwittmann/GitRepos/DMSStan/flip3/trpB/tmp/model\n"
     ]
    },
    {
     "name": "stderr",
     "output_type": "stream",
     "text": [
      "20:42:18 - cmdstanpy - INFO - compiled model executable: /home/bwittmann/GitRepos/DMSStan/flip3/trpB/tmp/model\n",
      "20:42:18 - cmdstanpy - INFO - CmdStan start processing\n"
     ]
    },
    {
     "data": {
      "application/vnd.jupyter.widget-view+json": {
       "model_id": "993318efc9684eeba39c9b5727f03024",
       "version_major": 2,
       "version_minor": 0
      },
      "text/plain": [
       "chain 1 |          | 00:00 Status"
      ]
     },
     "metadata": {},
     "output_type": "display_data"
    },
    {
     "data": {
      "application/vnd.jupyter.widget-view+json": {
       "model_id": "aeaf783ebf2d420c819b16bb751573ee",
       "version_major": 2,
       "version_minor": 0
      },
      "text/plain": [
       "chain 2 |          | 00:00 Status"
      ]
     },
     "metadata": {},
     "output_type": "display_data"
    },
    {
     "data": {
      "application/vnd.jupyter.widget-view+json": {
       "model_id": "b8a91e3dde8841f19ad15304dbefef5c",
       "version_major": 2,
       "version_minor": 0
      },
      "text/plain": [
       "chain 3 |          | 00:00 Status"
      ]
     },
     "metadata": {},
     "output_type": "display_data"
    },
    {
     "data": {
      "application/vnd.jupyter.widget-view+json": {
       "model_id": "6f9384da11b24333a00b5f52e1065a7b",
       "version_major": 2,
       "version_minor": 0
      },
      "text/plain": [
       "chain 4 |          | 00:00 Status"
      ]
     },
     "metadata": {},
     "output_type": "display_data"
    },
    {
     "name": "stdout",
     "output_type": "stream",
     "text": [
      "                                                                                                                                                                                                                                                                                                                                "
     ]
    },
    {
     "name": "stderr",
     "output_type": "stream",
     "text": [
      "00:38:40 - cmdstanpy - INFO - CmdStan done processing.\n",
      "00:38:40 - cmdstanpy - WARNING - Non-fatal error during sampling:\n",
      "Exception: model_model_namespace::log_prob: theta_tg0[1, 1][468] is -nan, but must be greater than or equal to 0.000000 (in 'model.stan', line 22, column 2 to column 48)\n",
      "\tException: model_model_namespace::log_prob: theta_tg0[1, 1][468] is -nan, but must be greater than or equal to 0.000000 (in 'model.stan', line 22, column 2 to column 48)\n",
      "\tException: model_model_namespace::log_prob: theta_tg0[1, 1][468] is -nan, but must be greater than or equal to 0.000000 (in 'model.stan', line 22, column 2 to column 48)\n",
      "\tException: model_model_namespace::log_prob: theta_tg0[1, 1][468] is -nan, but must be greater than or equal to 0.000000 (in 'model.stan', line 22, column 2 to column 48)\n",
      "\tException: model_model_namespace::log_prob: theta_tg0[1, 1][646] is -nan, but must be greater than or equal to 0.000000 (in 'model.stan', line 22, column 2 to column 48)\n",
      "\tException: model_model_namespace::log_prob: theta_tg0[1, 1][1635] is -nan, but must be greater than or equal to 0.000000 (in 'model.stan', line 22, column 2 to column 48)\n",
      "\tException: model_model_namespace::log_prob: theta_tg0[1, 1][468] is -nan, but must be greater than or equal to 0.000000 (in 'model.stan', line 22, column 2 to column 48)\n",
      "\tException: model_model_namespace::log_prob: theta_tg0[1, 1][468] is -nan, but must be greater than or equal to 0.000000 (in 'model.stan', line 22, column 2 to column 48)\n",
      "\tException: model_model_namespace::log_prob: theta_tg0[1, 1][646] is -nan, but must be greater than or equal to 0.000000 (in 'model.stan', line 22, column 2 to column 48)\n",
      "\tException: model_model_namespace::log_prob: theta_tg0[1, 1][4617] is -nan, but must be greater than or equal to 0.000000 (in 'model.stan', line 22, column 2 to column 48)\n",
      "\tException: model_model_namespace::log_prob: theta_tg0[1, 1][777] is -nan, but must be greater than or equal to 0.000000 (in 'model.stan', line 22, column 2 to column 48)\n",
      "\tException: model_model_namespace::log_prob: theta_tg0[1, 1][651] is -nan, but must be greater than or equal to 0.000000 (in 'model.stan', line 22, column 2 to column 48)\n",
      "\tException: model_model_namespace::log_prob: theta_tg0[1, 1][652] is -nan, but must be greater than or equal to 0.000000 (in 'model.stan', line 22, column 2 to column 48)\n",
      "\tException: model_model_namespace::log_prob: theta_tg0[1, 1][8861] is -nan, but must be greater than or equal to 0.000000 (in 'model.stan', line 22, column 2 to column 48)\n",
      "\tException: model_model_namespace::log_prob: theta_tg0[1, 1][4491] is -nan, but must be greater than or equal to 0.000000 (in 'model.stan', line 22, column 2 to column 48)\n",
      "\tException: model_model_namespace::log_prob: theta_tg0[1, 1][4533] is -nan, but must be greater than or equal to 0.000000 (in 'model.stan', line 22, column 2 to column 48)\n",
      "\tException: model_model_namespace::log_prob: theta_tg0[1, 1][4491] is -nan, but must be greater than or equal to 0.000000 (in 'model.stan', line 22, column 2 to column 48)\n",
      "\tException: model_model_namespace::log_prob: theta_tg0[1, 1][31] is -nan, but must be greater than or equal to 0.000000 (in 'model.stan', line 22, column 2 to column 48)\n",
      "\tException: model_model_namespace::log_prob: theta_tg0[1, 1][468] is -nan, but must be greater than or equal to 0.000000 (in 'model.stan', line 22, column 2 to column 48)\n",
      "\tException: model_model_namespace::log_prob: theta_tg0[1, 1][14] is -nan, but must be greater than or equal to 0.000000 (in 'model.stan', line 22, column 2 to column 48)\n",
      "\tException: model_model_namespace::log_prob: theta_tg0[1, 1][9029] is -nan, but must be greater than or equal to 0.000000 (in 'model.stan', line 22, column 2 to column 48)\n",
      "\tException: model_model_namespace::log_prob: theta_tg0[1, 1][468] is -nan, but must be greater than or equal to 0.000000 (in 'model.stan', line 22, column 2 to column 48)\n",
      "\tException: model_model_namespace::log_prob: theta_tg0[1, 1][31] is -nan, but must be greater than or equal to 0.000000 (in 'model.stan', line 22, column 2 to column 48)\n",
      "\tException: model_model_namespace::log_prob: theta_tg0[1, 1][216] is -nan, but must be greater than or equal to 0.000000 (in 'model.stan', line 22, column 2 to column 48)\n",
      "\tException: model_model_namespace::log_prob: theta_tg0[1, 1][14] is -nan, but must be greater than or equal to 0.000000 (in 'model.stan', line 22, column 2 to column 48)\n",
      "\tException: model_model_namespace::log_prob: theta_tg0[1, 1][4491] is -nan, but must be greater than or equal to 0.000000 (in 'model.stan', line 22, column 2 to column 48)\n",
      "\tException: model_model_namespace::log_prob: theta_tg0[1, 1][14] is -nan, but must be greater than or equal to 0.000000 (in 'model.stan', line 22, column 2 to column 48)\n",
      "\tException: model_model_namespace::log_prob: theta_tg0[1, 1][4533] is -nan, but must be greater than or equal to 0.000000 (in 'model.stan', line 22, column 2 to column 48)\n",
      "Consider re-running with show_console=True if the above output is unclear!\n"
     ]
    },
    {
     "name": "stdout",
     "output_type": "stream",
     "text": [
      "\n"
     ]
    }
   ],
   "source": [
    "# samples = model.mcmc(\n",
    "#     output_dir=\"./tmp\",\n",
    "#     cpp_options={\"STAN_THREADS\": True},\n",
    "# )"
   ]
  }
 ],
 "metadata": {
  "kernelspec": {
   "display_name": "Python 3",
   "language": "python",
   "name": "python3"
  },
  "language_info": {
   "codemirror_mode": {
    "name": "ipython",
    "version": 3
   },
   "file_extension": ".py",
   "mimetype": "text/x-python",
   "name": "python",
   "nbconvert_exporter": "python",
   "pygments_lexer": "ipython3",
   "version": "3.12.9"
  }
 },
 "nbformat": 4,
 "nbformat_minor": 2
}
