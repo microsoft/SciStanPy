{
 "cells": [
  {
   "cell_type": "code",
   "execution_count": 14,
   "metadata": {},
   "outputs": [],
   "source": [
    "import scistanpy as ssp\n",
    "import numpy as np\n",
    "\n",
    "# Define/import experimental data\n",
    "temperatures = np.array([20, 25, 30, 35, 40])  # °C\n",
    "reaction_rates = np.array([0.1, 0.3, 0.8, 2.1, 5.2])  # units/sec\n",
    "\n",
    "# Define the model. Here we're modeling the effect of temperature on reaction\n",
    "# rates\n",
    "class MyModel(ssp.Model):\n",
    "      def __init__(self, temperatures, reaction_rates):\n",
    "\n",
    "            # Record default data\n",
    "            super().__init__(default_data = {\"reaction_rates\": reaction_rates})\n",
    "\n",
    "            # Define priors\n",
    "            self.baseline_rate = ssp.parameters.LogNormal(mu=0.0, sigma=1.0)  # Rates are always positive\n",
    "            self.temperature_effect = ssp.parameters.Normal(mu=0.0, sigma=0.5)  # Effect of temperature\n",
    "\n",
    "            # Model the relationship (Arrhenius-like behavior with noise)\n",
    "            self.reaction_rates = ssp.parameters.Normal(\n",
    "                  mu = self.baseline_rate * ssp.operations.exp(self.temperature_effect * temperatures),\n",
    "                  sigma = 0.1\n",
    "            )\n",
    "\n",
    "# Build the model\n",
    "model = MyModel(temperatures, reaction_rates)"
   ]
  },
  {
   "cell_type": "code",
   "execution_count": 16,
   "metadata": {},
   "outputs": [
    {
     "data": {
      "application/vnd.jupyter.widget-view+json": {
       "model_id": "45d6147ce754404bb50048d4c823e0af",
       "version_major": 2,
       "version_minor": 0
      },
      "text/plain": [
       "BokehModel(combine_events=True, render_bundle={'docs_json': {'b57b8f97-696a-490c-92f2-fe267c7b4995': {'version…"
      ]
     },
     "execution_count": 16,
     "metadata": {},
     "output_type": "execute_result"
    }
   ],
   "source": [
    "model.prior_predictive()"
   ]
  },
  {
   "cell_type": "code",
   "execution_count": null,
   "metadata": {},
   "outputs": [],
   "source": []
  }
 ],
 "metadata": {
  "kernelspec": {
   "display_name": "scistanpy",
   "language": "python",
   "name": "python3"
  },
  "language_info": {
   "codemirror_mode": {
    "name": "ipython",
    "version": 3
   },
   "file_extension": ".py",
   "mimetype": "text/x-python",
   "name": "python",
   "nbconvert_exporter": "python",
   "pygments_lexer": "ipython3",
   "version": "3.12.11"
  }
 },
 "nbformat": 4,
 "nbformat_minor": 2
}
