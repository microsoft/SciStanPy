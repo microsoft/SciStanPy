{
 "cells": [
  {
   "cell_type": "code",
   "execution_count": 1,
   "metadata": {},
   "outputs": [],
   "source": [
    "import dms_stan.operations as dmso\n",
    "import dms_stan.modeling as dmsm"
   ]
  },
  {
   "cell_type": "code",
   "execution_count": 2,
   "metadata": {},
   "outputs": [],
   "source": [
    "# Now we need to write a function that will recursively crawl up the tree of parameters\n",
    "# and identify all that are connected to one another.\n",
    "\n",
    "# Every parameter has either a Distribution or a TransformedDistribution object\n",
    "# as an instance variable. Every TransformedDistribution and Distribution object\n",
    "# has a list of parameters that it generates. The Distribution object has a list\n",
    "# of parameters that were used to define it. The TransformedDistribution object\n",
    "# has one or two distributions defined as instance variables.\n"
   ]
  },
  {
   "cell_type": "code",
   "execution_count": 6,
   "metadata": {},
   "outputs": [],
   "source": [
    "root1 = dmsm.Normal(mu = 0, sigma = 1)\n",
    "root2 = dmsm.HalfNormal(sigma = 1)\n",
    "combined = root1 + root2"
   ]
  },
  {
   "cell_type": "code",
   "execution_count": 16,
   "metadata": {},
   "outputs": [
    {
     "data": {
      "text/plain": [
       "array([ 1.91183708,  0.82141233,  0.83631799,  0.90009067,  1.91529116,\n",
       "        0.34426636,  0.21656241,  0.0876962 ,  3.31570708,  1.07658432,\n",
       "        4.52727138,  0.99108369,  0.47608663,  1.61273146,  0.92627102,\n",
       "        0.28530781,  0.4126867 ,  5.85197562,  1.42525479,  1.51647193,\n",
       "        0.7583944 ,  0.50171675,  2.43916512,  0.9006609 ,  0.46808372,\n",
       "        0.87447767,  0.4042968 ,  1.20930503,  3.09326643,  0.43340391,\n",
       "        4.17261945,  0.51292792,  1.16580538,  0.43327332,  0.80072704,\n",
       "        1.04854597,  0.64746862,  0.49515329,  0.50768902,  0.43992107,\n",
       "        0.20802854,  0.76876526,  1.49355354,  2.48035557,  1.90999902,\n",
       "       11.67367752,  1.3753134 ,  0.63360225,  6.49891108,  0.3509126 ,\n",
       "        2.63393153,  0.38475644,  1.42491428,  0.13968062,  2.45781737,\n",
       "        0.85363838,  0.37996297,  5.35707994,  2.14975672,  1.04687322,\n",
       "        0.47452385,  0.95756412,  0.84880249,  2.06426967,  2.22126129,\n",
       "        0.51285795,  0.57731308,  0.58739056,  0.25941732,  0.55345497,\n",
       "        0.91173303,  1.99561434,  3.74484224,  0.44559452,  1.73494642,\n",
       "        0.64117245,  7.96604215,  0.9524444 ,  1.65223178,  0.39212989,\n",
       "        0.44455146,  1.22347516,  0.68109434,  1.42374197,  0.20975311,\n",
       "        1.93867543,  0.40678099,  5.5980784 ,  0.74941135,  2.99596097,\n",
       "        0.24783717,  1.53563848,  0.41146569,  0.6145352 ,  1.02490137,\n",
       "        0.72827616,  1.3024611 ,  2.11204237,  1.92087755,  0.91623584])"
      ]
     },
     "execution_count": 16,
     "metadata": {},
     "output_type": "execute_result"
    }
   ],
   "source": [
    "dmso.exp(root1).sample(n = 100)"
   ]
  },
  {
   "cell_type": "code",
   "execution_count": 15,
   "metadata": {},
   "outputs": [
    {
     "data": {
      "text/plain": [
       "array([1.03486624, 1.41866569, 0.15358189, 1.21575764, 0.08791904,\n",
       "       0.99970142, 2.37488691, 0.27393225, 0.28038231, 0.77105216])"
      ]
     },
     "execution_count": 15,
     "metadata": {},
     "output_type": "execute_result"
    }
   ],
   "source": [
    "root2.sample(10)"
   ]
  },
  {
   "cell_type": "code",
   "execution_count": 11,
   "metadata": {},
   "outputs": [
    {
     "data": {
      "text/plain": [
       "array([1.68291779, 0.25743131, 2.15668488, 1.44486174, 0.42114362,\n",
       "       0.56807629, 0.        , 1.73692042, 0.        , 0.        ])"
      ]
     },
     "execution_count": 11,
     "metadata": {},
     "output_type": "execute_result"
    }
   ],
   "source": [
    "combined.sample(10)"
   ]
  },
  {
   "cell_type": "code",
   "execution_count": 3,
   "metadata": {},
   "outputs": [],
   "source": [
    "class Model:\n",
    "    def __init__(self):\n",
    "        \"\"\"\n",
    "        Where we define the model. Models are defined by a series of parameters\n",
    "        and transformations.\n",
    "\n",
    "        Generated quantities: We automatically generate quantities for each parameter.\n",
    "        \"\"\"\n",
    "    pass"
   ]
  }
 ],
 "metadata": {
  "kernelspec": {
   "display_name": "dms_stan",
   "language": "python",
   "name": "python3"
  },
  "language_info": {
   "codemirror_mode": {
    "name": "ipython",
    "version": 3
   },
   "file_extension": ".py",
   "mimetype": "text/x-python",
   "name": "python",
   "nbconvert_exporter": "python",
   "pygments_lexer": "ipython3",
   "version": "3.12.4"
  }
 },
 "nbformat": 4,
 "nbformat_minor": 2
}
