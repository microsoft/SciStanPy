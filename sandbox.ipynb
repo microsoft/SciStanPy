{
 "cells": [
  {
   "cell_type": "code",
   "execution_count": 72,
   "metadata": {},
   "outputs": [],
   "source": [
    "from contextlib import ExitStack\n",
    "\n",
    "from dms_stan.utils import from_csv_noload\n",
    "\n",
    "import numpy as np\n",
    "import dask.array as da\n",
    "import h5py"
   ]
  },
  {
   "cell_type": "code",
   "execution_count": 2,
   "metadata": {},
   "outputs": [],
   "source": [
    "test = from_csv_noload(\n",
    "    \"/home/bwittmann//GitRepos/DMSStan/flip3/trpB/exponential/libI-20250429183759_*.csv\"\n",
    ")"
   ]
  },
  {
   "cell_type": "code",
   "execution_count": 29,
   "metadata": {},
   "outputs": [
    {
     "ename": "AttributeError",
     "evalue": "'RunSet' object has no attribute 'args'",
     "output_type": "error",
     "traceback": [
      "\u001b[31m---------------------------------------------------------------------------\u001b[39m",
      "\u001b[31mAttributeError\u001b[39m                            Traceback (most recent call last)",
      "\u001b[36mCell\u001b[39m\u001b[36m \u001b[39m\u001b[32mIn[29]\u001b[39m\u001b[32m, line 1\u001b[39m\n\u001b[32m----> \u001b[39m\u001b[32m1\u001b[39m \u001b[43mtest\u001b[49m\u001b[43m.\u001b[49m\u001b[43mrunset\u001b[49m\u001b[43m.\u001b[49m\u001b[43margs\u001b[49m\n",
      "\u001b[31mAttributeError\u001b[39m: 'RunSet' object has no attribute 'args'"
     ]
    }
   ],
   "source": [
    "test.runset.args"
   ]
  },
  {
   "cell_type": "code",
   "execution_count": 47,
   "metadata": {},
   "outputs": [],
   "source": [
    "# Get a copy of the config object\n",
    "config = test.metadata.cmdstan_config\n",
    "\n",
    "# Get the number of draws and number of warmups\n",
    "num_draws = test.num_draws_sampling\n",
    "sampling_iter_start = 0\n",
    "if config[\"save_warmup\"]:\n",
    "    num_draws += test.num_draws_warmup\n",
    "    sampling_iter_start = test.num_draws_warmup\n",
    "\n",
    "# # Build empty dask arrays for each of the variables\n",
    "# draws = {\n",
    "#     varname: da.empty(\n",
    "#         dtype=np.float32,\n",
    "#         shape=()\n",
    "#     )\n",
    "# }\n",
    "# test.num_draws_sampling"
   ]
  },
  {
   "cell_type": "code",
   "execution_count": null,
   "metadata": {},
   "outputs": [],
   "source": [
    "# TODO: Writing to hdf5 files should be the standard way of processing outputs of\n",
    "# the cmdstan sampling run. This will make it very easy for us to toggle the dask\n",
    "# backend off and on\n",
    "\n",
    "method_var_dtypes = {\n",
    "    \"lp__\": np.float32,\n",
    "    \"accept_stat__\": np.float32,\n",
    "    \"stepsize__\": np.float32,\n",
    "    \"treedepth__\": np.int32,\n",
    "    \"n_leapfrog__\": np.int32,\n",
    "    \"divergent__\": np.bool_,\n",
    "    \"energy__\": np.float32,\n",
    "}\n",
    "\n",
    "# Build the hdf5 file\n",
    "with h5py.File(\"/home/bwittmann/GitRepos/DMSStan/tmp/test.hdf5\", \"w\") as f:\n",
    "\n",
    "    # We need a group for metadata, samples, and posterior predictive checks\n",
    "    metadata_group = f.create_group(\"metadata\")\n",
    "    sample_group = f.create_group(\"samples\")\n",
    "    ppc_group = f.create_group(\"ppc\")\n",
    "\n",
    "    # Create datasets for each variable of the metadata group\n",
    "    metadata_dsets = {\n",
    "        varname: metadata_group.create_dataset(\n",
    "            name=varname,\n",
    "            shape=(config[\"num_chains\"], num_draws),\n",
    "            dtype=method_var_dtypes[varname],\n",
    "            chunks=(1, num_draws),  # TODO: make this configurable\n",
    "        )\n",
    "        for varname in test.metadata.method_vars.keys()\n",
    "    }\n",
    "\n",
    "    # Create datasets for each variable of the sample group, including posterior\n",
    "    # predictive checks\n",
    "    sample_dsets, ppc_dsets = {}, {}\n",
    "    for varname, varspec in test.metadata.stan_vars.items():\n",
    "\n",
    "        # Determine the dictionary to use\n",
    "        target = ppc_dsets if varname.endswith(\"_ppc\") else sample_dsets\n",
    "\n",
    "        # Build the dataset\n",
    "        target[varname] = ppc_group.create_dataset(\n",
    "            name=varname,\n",
    "            shape=(config[\"num_chains\"], num_draws, *varspec.dimensions),\n",
    "            dtype=np.float32,  # TODO: inherit from the model\n",
    "            chunks=(1, num_draws, *varspec.dimensions),  # TODO: make this configurable\n",
    "        )\n",
    "\n",
    "    # Parse each of the csv files\n",
    "    for chain_ind, csv_file in enumerate(sorted(test.runset.csv_files)):\n",
    "        for draw_ind, draw_data in enumerate(parse_csv(csv_file)):\n",
    "            # TODO: We need to write the `parse_csv` generator. This should emit\n",
    "            # a dictionary of the form: varname -> array of sampled data. These\n",
    "            # arrays will then be written to the appropriate dataset.\n",
    "            pass"
   ]
  },
  {
   "cell_type": "code",
   "execution_count": null,
   "metadata": {},
   "outputs": [
    {
     "data": {
      "text/plain": [
       "[<_io.TextIOWrapper name='/home/bwittmann//GitRepos/DMSStan/flip3/trpB/exponential/libI-20250429183759_1.csv' mode='r' encoding='utf-8'>,\n",
       " <_io.TextIOWrapper name='/home/bwittmann//GitRepos/DMSStan/flip3/trpB/exponential/libI-20250429183759_2.csv' mode='r' encoding='utf-8'>,\n",
       " <_io.TextIOWrapper name='/home/bwittmann//GitRepos/DMSStan/flip3/trpB/exponential/libI-20250429183759_3.csv' mode='r' encoding='utf-8'>,\n",
       " <_io.TextIOWrapper name='/home/bwittmann//GitRepos/DMSStan/flip3/trpB/exponential/libI-20250429183759_4.csv' mode='r' encoding='utf-8'>]"
      ]
     },
     "execution_count": 77,
     "metadata": {},
     "output_type": "execute_result"
    }
   ],
   "source": [
    "test.runset.it"
   ]
  },
  {
   "cell_type": "code",
   "execution_count": 60,
   "metadata": {},
   "outputs": [
    {
     "data": {
      "text/plain": [
       "(9121,)"
      ]
     },
     "execution_count": 60,
     "metadata": {},
     "output_type": "execute_result"
    }
   ],
   "source": [
    "test.metadata.stan_vars[\"inv_r_mean\"].dimensions"
   ]
  },
  {
   "cell_type": "code",
   "execution_count": 39,
   "metadata": {},
   "outputs": [
    {
     "data": {
      "text/plain": [
       "True"
      ]
     },
     "execution_count": 39,
     "metadata": {},
     "output_type": "execute_result"
    }
   ],
   "source": [
    "bool(\"0\")"
   ]
  },
  {
   "cell_type": "code",
   "execution_count": null,
   "metadata": {},
   "outputs": [],
   "source": []
  }
 ],
 "metadata": {
  "kernelspec": {
   "display_name": "Python 3",
   "language": "python",
   "name": "python3"
  },
  "language_info": {
   "codemirror_mode": {
    "name": "ipython",
    "version": 3
   },
   "file_extension": ".py",
   "mimetype": "text/x-python",
   "name": "python",
   "nbconvert_exporter": "python",
   "pygments_lexer": "ipython3",
   "version": "3.12.10"
  }
 },
 "nbformat": 4,
 "nbformat_minor": 2
}
