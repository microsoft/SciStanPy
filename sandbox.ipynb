{
 "cells": [
  {
   "cell_type": "code",
   "execution_count": 12,
   "metadata": {},
   "outputs": [],
   "source": [
    "from dms_stan.model.stan.stan_results import SampleResults"
   ]
  },
  {
   "cell_type": "code",
   "execution_count": 17,
   "metadata": {},
   "outputs": [],
   "source": [
    "test = SampleResults.from_disk(\n",
    "    \"/home/bwittmann/GitRepos/DMSStan/tmp/trpb/libA/trpb_libA_exponential_exponential_diagnosed.nc\",\n",
    "    skip_fit=True,\n",
    ")"
   ]
  },
  {
   "cell_type": "code",
   "execution_count": 21,
   "metadata": {},
   "outputs": [
    {
     "data": {
      "text/plain": [
       "array([[1.01000e+00, 1.01000e+00],\n",
       "       [1.17816e+03, 1.17974e+03],\n",
       "       [0.00000e+00, 0.00000e+00],\n",
       "       [0.00000e+00, 0.00000e+00],\n",
       "       [2.10216e+03, 2.11048e+03]])"
      ]
     },
     "execution_count": 21,
     "metadata": {},
     "output_type": "execute_result"
    }
   ],
   "source": [
    "test.inference_obj.variable_diagnostic_stats.total_raw_abundance_tg0.values"
   ]
  },
  {
   "cell_type": "code",
   "execution_count": null,
   "metadata": {},
   "outputs": [],
   "source": []
  }
 ],
 "metadata": {
  "kernelspec": {
   "display_name": "dms_stan",
   "language": "python",
   "name": "python3"
  },
  "language_info": {
   "codemirror_mode": {
    "name": "ipython",
    "version": 3
   },
   "file_extension": ".py",
   "mimetype": "text/x-python",
   "name": "python",
   "nbconvert_exporter": "python",
   "pygments_lexer": "ipython3",
   "version": "3.12.10"
  }
 },
 "nbformat": 4,
 "nbformat_minor": 2
}
