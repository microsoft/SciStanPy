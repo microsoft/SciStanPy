{
 "cells": [
  {
   "cell_type": "code",
   "execution_count": 1,
   "metadata": {},
   "outputs": [],
   "source": [
    "import numpy as np\n",
    "import numpy.typing as npt\n",
    "import pandas as pd\n",
    "\n",
    "from Bio.Seq import Seq"
   ]
  },
  {
   "cell_type": "code",
   "execution_count": null,
   "metadata": {},
   "outputs": [],
   "source": [
    "def load_k50_data(count_filedir: str, qpcr_raw_filepath: str) -> dict:\n",
    "    def load_raw() -> tuple[list[pd.DataFrame], dict[str, npt.NDArray[np.int64]]]:\n",
    "        \"\"\"Loads the raw datasets\"\"\"\n",
    "\n",
    "        # Read in the count dataframes, remove duplicate sequences, and assign unique\n",
    "        # sequence identities\n",
    "        seqids = {}\n",
    "        seqid = 0\n",
    "        dfs = []\n",
    "        for df_ind in range(1, 5):\n",
    "\n",
    "            # Load the dataframe, remove unnecessary columns, and combine duplicates\n",
    "            df = (\n",
    "                pd.read_csv(count_filedir + f\"NGS_count_lib{df_ind}.csv\")\n",
    "                .drop(columns=[\"name\", \"dna_seq\"])\n",
    "                .groupby(\"aa_seq\", as_index=False)\n",
    "                .sum()\n",
    "            )\n",
    "\n",
    "            # Assign unique sequence IDs\n",
    "            ids = [None] * len(df)\n",
    "            for df_ind, seq in enumerate(df.aa_seq.tolist()):\n",
    "                if seq not in seqids:\n",
    "                    seqids[seq] = seqid\n",
    "                    seqid += 1\n",
    "                ids[df_ind] = seqids[seq]\n",
    "            df[\"seq_id\"] = ids\n",
    "\n",
    "            # Record\n",
    "            dfs.append(df)\n",
    "\n",
    "        return dfs, seqids\n",
    "\n",
    "    def gather_counts() -> dict[str, npt.NDArray]:\n",
    "        \"\"\"Gathers count data for each library in the dataset\"\"\"\n",
    "        # Convert the dataframes to numpy arrays of counts\n",
    "        libdata = {}\n",
    "        for lib_ind, df in enumerate(dfs, 1):\n",
    "\n",
    "            # Get the columns for each replicate\n",
    "            stringdices1 = [str(j).rjust(2, \"0\") for j in range(1, 13)]\n",
    "            stringdices2 = [str(j) for j in range(13, 25)]\n",
    "\n",
    "            # Get counts for each protease\n",
    "            protease_counts = []\n",
    "            for protease in (\"C\", \"T\"):\n",
    "                protease_counts.append(\n",
    "                    np.stack(\n",
    "                        [\n",
    "                            df[\n",
    "                                [\n",
    "                                    f\"v{lib_ind}_{protease}{stringdex}\"\n",
    "                                    for stringdex in stringdices\n",
    "                                ]\n",
    "                            ]\n",
    "                            .to_numpy(dtype=int)\n",
    "                            .T\n",
    "                            for stringdices in (stringdices1, stringdices2)\n",
    "                        ]\n",
    "                    )\n",
    "                )\n",
    "\n",
    "            # Record for the libraries\n",
    "            key = f\"v{lib_ind}\"\n",
    "            protease_counts = np.stack(protease_counts)\n",
    "            libdata[f\"{key}_counts_cg0\"] = protease_counts[:, :, 1:]\n",
    "            libdata[f\"{key}_counts_c0\"] = protease_counts[:, :, 0]\n",
    "            libdata[f\"{key}_seqids\"] = df[\"seq_id\"].to_numpy()\n",
    "\n",
    "        return libdata\n",
    "\n",
    "    def load_qpcr() -> dict[str, npt.NDArray]:\n",
    "        \"\"\"Loads raw qpcr data\"\"\"\n",
    "\n",
    "        # Load qpcr data and separate trypsin from chymotrypsin\n",
    "        qpcr = pd.read_csv(qpcr_raw_filepath)\n",
    "        tryp = qpcr[qpcr.protease == \"trypsin\"]\n",
    "        chymo = qpcr[qpcr.protease == \"chymotrypsin\"]\n",
    "\n",
    "        # Get protease concentrations\n",
    "        protease_conc = chymo.protease_con.to_numpy()\n",
    "        assert np.all(protease_conc == tryp.protease_con.to_numpy())\n",
    "\n",
    "        # Get survival data for each protein\n",
    "        tryp_survival = tryp.iloc[1:, 1:9].to_numpy()\n",
    "        chymo_survival = chymo.iloc[1:, 1:9].to_numpy()\n",
    "\n",
    "        return {\n",
    "            \"qpcr_log_protease_conc\": np.log(protease_conc[1:]),\n",
    "            \"qpcr_log2_survival\": np.stack([chymo_survival, tryp_survival]),\n",
    "        }\n",
    "\n",
    "\n",
    "    # Get count data\n",
    "    dfs, seqids = load_raw()\n",
    "    libdata = gather_counts()\n",
    "\n",
    "    # Define the expected protease concentrations\n",
    "    conc1 = np.log(25) - np.arange(10, -1, -1) * np.log(3)\n",
    "    conc2 = 0.5 * np.log(3) + conc1\n",
    "    libdata[\"log_expected_protease_conc\"] = np.stack([conc1, conc2])\n",
    "\n",
    "    # Add qpcr data\n",
    "    libdata.update(load_qpcr())\n",
    "\n",
    "    return libdata, seqids"
   ]
  },
  {
   "cell_type": "code",
   "execution_count": 3,
   "metadata": {},
   "outputs": [
    {
     "name": "stderr",
     "output_type": "stream",
     "text": [
      "/tmp/ipykernel_2582028/3011251714.py:89: RuntimeWarning: divide by zero encountered in log\n",
      "  \"qpcr_log_protease_conc\": np.log(protease_conc),\n"
     ]
    }
   ],
   "source": [
    "k50_data = load_k50_data(\n",
    "    count_filedir=\"flip3_data/raw_data/tsuboyama/Raw_NGS_count_tables/\",\n",
    "    qpcr_raw_filepath=\"flip3_data/raw_data/tsuboyama/Pipeline_qPCR_data/Raw_qPCR_data_FigS1.csv\"\n",
    ")"
   ]
  },
  {
   "cell_type": "code",
   "execution_count": 6,
   "metadata": {},
   "outputs": [
    {
     "data": {
      "text/plain": [
       "(2, 2, 297699)"
      ]
     },
     "execution_count": 6,
     "metadata": {},
     "output_type": "execute_result"
    }
   ],
   "source": [
    "k50_data[0][\"v1_counts_c0\"].shape"
   ]
  },
  {
   "cell_type": "code",
   "execution_count": 5,
   "metadata": {},
   "outputs": [
    {
     "data": {
      "text/plain": [
       "(12,)"
      ]
     },
     "execution_count": 5,
     "metadata": {},
     "output_type": "execute_result"
    }
   ],
   "source": [
    "k50_data[0][\"qpcr_log_protease_conc\"].shape"
   ]
  },
  {
   "cell_type": "code",
   "execution_count": 7,
   "metadata": {},
   "outputs": [
    {
     "data": {
      "text/plain": [
       "(2, 11, 8)"
      ]
     },
     "execution_count": 7,
     "metadata": {},
     "output_type": "execute_result"
    }
   ],
   "source": [
    "k50_data[0][\"qpcr_log2_survival\"].shape"
   ]
  },
  {
   "cell_type": "code",
   "execution_count": null,
   "metadata": {},
   "outputs": [],
   "source": [
    "qpcr_filepath = \"/home/bwittmann/GitRepos/cdna-display-proteolysis-pipeline/Pipeline_qPCR_data/Raw_qPCR_data_FigS1.csv\"\n",
    "\n",
    "# Load qpcr data and separate trypsin from chymotrypsin\n",
    "qpcr = pd.read_csv(qpcr_filepath)\n",
    "tryp = qpcr[qpcr.protease == \"trypsin\"]\n",
    "chymo = qpcr[qpcr.protease == \"chymotrypsin\"]\n",
    "\n",
    "# Get protease concentrations\n",
    "protease_conc = chymo.protease_con.to_numpy()\n",
    "assert np.all(protease_conc == tryp.protease_con.to_numpy())\n",
    "\n",
    "# Get survival data for each protein\n",
    "tryp_survival = tryp.iloc[:, 1:9].to_numpy()\n",
    "chymo_survival = chymo.iloc[:, 1:9].to_numpy()\n"
   ]
  },
  {
   "cell_type": "code",
   "execution_count": null,
   "metadata": {},
   "outputs": [
    {
     "data": {
      "text/plain": [
       "(12, 8)"
      ]
     },
     "execution_count": 28,
     "metadata": {},
     "output_type": "execute_result"
    }
   ],
   "source": [
    "tryp_survival.shape"
   ]
  },
  {
   "cell_type": "code",
   "execution_count": null,
   "metadata": {},
   "outputs": [
    {
     "data": {
      "text/html": [
       "<div>\n",
       "<style scoped>\n",
       "    .dataframe tbody tr th:only-of-type {\n",
       "        vertical-align: middle;\n",
       "    }\n",
       "\n",
       "    .dataframe tbody tr th {\n",
       "        vertical-align: top;\n",
       "    }\n",
       "\n",
       "    .dataframe thead th {\n",
       "        text-align: right;\n",
       "    }\n",
       "</style>\n",
       "<table border=\"1\" class=\"dataframe\">\n",
       "  <thead>\n",
       "    <tr style=\"text-align: right;\">\n",
       "      <th></th>\n",
       "      <th>protease_con</th>\n",
       "      <th>ec5.1</th>\n",
       "      <th>ec50_4.9</th>\n",
       "      <th>ec50_4.4</th>\n",
       "      <th>ec50_4.2</th>\n",
       "      <th>ec50_3</th>\n",
       "      <th>ec50_2</th>\n",
       "      <th>ec50_0</th>\n",
       "      <th>4cuts</th>\n",
       "      <th>protease</th>\n",
       "    </tr>\n",
       "  </thead>\n",
       "  <tbody>\n",
       "    <tr>\n",
       "      <th>0</th>\n",
       "      <td>0.000000</td>\n",
       "      <td>0.000000</td>\n",
       "      <td>0.000000</td>\n",
       "      <td>0.000000</td>\n",
       "      <td>0.000000</td>\n",
       "      <td>0.000000</td>\n",
       "      <td>0.000000</td>\n",
       "      <td>0.000000</td>\n",
       "      <td>0.000000</td>\n",
       "      <td>trypsin</td>\n",
       "    </tr>\n",
       "    <tr>\n",
       "      <th>1</th>\n",
       "      <td>0.000423</td>\n",
       "      <td>0.627874</td>\n",
       "      <td>0.205186</td>\n",
       "      <td>0.146026</td>\n",
       "      <td>0.351180</td>\n",
       "      <td>0.156886</td>\n",
       "      <td>0.179236</td>\n",
       "      <td>-0.143042</td>\n",
       "      <td>0.291431</td>\n",
       "      <td>trypsin</td>\n",
       "    </tr>\n",
       "    <tr>\n",
       "      <th>2</th>\n",
       "      <td>0.001270</td>\n",
       "      <td>0.682212</td>\n",
       "      <td>0.137650</td>\n",
       "      <td>0.214220</td>\n",
       "      <td>0.226380</td>\n",
       "      <td>0.081019</td>\n",
       "      <td>0.026974</td>\n",
       "      <td>-0.233269</td>\n",
       "      <td>0.167250</td>\n",
       "      <td>trypsin</td>\n",
       "    </tr>\n",
       "    <tr>\n",
       "      <th>3</th>\n",
       "      <td>0.003810</td>\n",
       "      <td>0.368126</td>\n",
       "      <td>0.387063</td>\n",
       "      <td>0.303972</td>\n",
       "      <td>0.252836</td>\n",
       "      <td>0.130429</td>\n",
       "      <td>-0.045532</td>\n",
       "      <td>-0.590464</td>\n",
       "      <td>-0.081227</td>\n",
       "      <td>trypsin</td>\n",
       "    </tr>\n",
       "    <tr>\n",
       "      <th>4</th>\n",
       "      <td>0.011431</td>\n",
       "      <td>0.431367</td>\n",
       "      <td>0.353191</td>\n",
       "      <td>0.351618</td>\n",
       "      <td>0.511762</td>\n",
       "      <td>0.173152</td>\n",
       "      <td>0.065722</td>\n",
       "      <td>-0.843568</td>\n",
       "      <td>-0.579334</td>\n",
       "      <td>trypsin</td>\n",
       "    </tr>\n",
       "    <tr>\n",
       "      <th>5</th>\n",
       "      <td>0.034294</td>\n",
       "      <td>0.194988</td>\n",
       "      <td>0.258538</td>\n",
       "      <td>0.233000</td>\n",
       "      <td>0.334137</td>\n",
       "      <td>-0.183751</td>\n",
       "      <td>-0.553425</td>\n",
       "      <td>-2.443772</td>\n",
       "      <td>-2.645948</td>\n",
       "      <td>trypsin</td>\n",
       "    </tr>\n",
       "    <tr>\n",
       "      <th>6</th>\n",
       "      <td>0.102881</td>\n",
       "      <td>-0.210084</td>\n",
       "      <td>-0.006398</td>\n",
       "      <td>-0.017008</td>\n",
       "      <td>-0.340219</td>\n",
       "      <td>-0.929618</td>\n",
       "      <td>-2.180667</td>\n",
       "      <td>-5.358790</td>\n",
       "      <td>-5.919798</td>\n",
       "      <td>trypsin</td>\n",
       "    </tr>\n",
       "    <tr>\n",
       "      <th>7</th>\n",
       "      <td>0.308642</td>\n",
       "      <td>-0.403575</td>\n",
       "      <td>-0.589131</td>\n",
       "      <td>-0.448072</td>\n",
       "      <td>-0.649178</td>\n",
       "      <td>-2.839089</td>\n",
       "      <td>-5.350209</td>\n",
       "      <td>-6.821456</td>\n",
       "      <td>-6.887197</td>\n",
       "      <td>trypsin</td>\n",
       "    </tr>\n",
       "    <tr>\n",
       "      <th>8</th>\n",
       "      <td>0.925926</td>\n",
       "      <td>-0.692816</td>\n",
       "      <td>-0.428798</td>\n",
       "      <td>-0.559090</td>\n",
       "      <td>-0.896552</td>\n",
       "      <td>-5.080560</td>\n",
       "      <td>-6.661476</td>\n",
       "      <td>-7.148223</td>\n",
       "      <td>-6.922888</td>\n",
       "      <td>trypsin</td>\n",
       "    </tr>\n",
       "    <tr>\n",
       "      <th>9</th>\n",
       "      <td>2.777778</td>\n",
       "      <td>-0.256332</td>\n",
       "      <td>-0.700245</td>\n",
       "      <td>-1.451881</td>\n",
       "      <td>-3.020199</td>\n",
       "      <td>-6.689945</td>\n",
       "      <td>-7.098805</td>\n",
       "      <td>-7.490998</td>\n",
       "      <td>-7.088666</td>\n",
       "      <td>trypsin</td>\n",
       "    </tr>\n",
       "    <tr>\n",
       "      <th>10</th>\n",
       "      <td>8.333333</td>\n",
       "      <td>-0.323908</td>\n",
       "      <td>-1.500733</td>\n",
       "      <td>-4.158049</td>\n",
       "      <td>-7.706896</td>\n",
       "      <td>-7.212248</td>\n",
       "      <td>-7.391703</td>\n",
       "      <td>-7.891437</td>\n",
       "      <td>-7.479842</td>\n",
       "      <td>trypsin</td>\n",
       "    </tr>\n",
       "    <tr>\n",
       "      <th>11</th>\n",
       "      <td>25.000000</td>\n",
       "      <td>-0.682309</td>\n",
       "      <td>-3.708796</td>\n",
       "      <td>-8.213298</td>\n",
       "      <td>-8.943585</td>\n",
       "      <td>-7.849481</td>\n",
       "      <td>-8.061230</td>\n",
       "      <td>-8.246520</td>\n",
       "      <td>-7.292856</td>\n",
       "      <td>trypsin</td>\n",
       "    </tr>\n",
       "  </tbody>\n",
       "</table>\n",
       "</div>"
      ],
      "text/plain": [
       "    protease_con     ec5.1  ec50_4.9  ec50_4.4  ec50_4.2    ec50_3    ec50_2  \\\n",
       "0       0.000000  0.000000  0.000000  0.000000  0.000000  0.000000  0.000000   \n",
       "1       0.000423  0.627874  0.205186  0.146026  0.351180  0.156886  0.179236   \n",
       "2       0.001270  0.682212  0.137650  0.214220  0.226380  0.081019  0.026974   \n",
       "3       0.003810  0.368126  0.387063  0.303972  0.252836  0.130429 -0.045532   \n",
       "4       0.011431  0.431367  0.353191  0.351618  0.511762  0.173152  0.065722   \n",
       "5       0.034294  0.194988  0.258538  0.233000  0.334137 -0.183751 -0.553425   \n",
       "6       0.102881 -0.210084 -0.006398 -0.017008 -0.340219 -0.929618 -2.180667   \n",
       "7       0.308642 -0.403575 -0.589131 -0.448072 -0.649178 -2.839089 -5.350209   \n",
       "8       0.925926 -0.692816 -0.428798 -0.559090 -0.896552 -5.080560 -6.661476   \n",
       "9       2.777778 -0.256332 -0.700245 -1.451881 -3.020199 -6.689945 -7.098805   \n",
       "10      8.333333 -0.323908 -1.500733 -4.158049 -7.706896 -7.212248 -7.391703   \n",
       "11     25.000000 -0.682309 -3.708796 -8.213298 -8.943585 -7.849481 -8.061230   \n",
       "\n",
       "      ec50_0     4cuts protease  \n",
       "0   0.000000  0.000000  trypsin  \n",
       "1  -0.143042  0.291431  trypsin  \n",
       "2  -0.233269  0.167250  trypsin  \n",
       "3  -0.590464 -0.081227  trypsin  \n",
       "4  -0.843568 -0.579334  trypsin  \n",
       "5  -2.443772 -2.645948  trypsin  \n",
       "6  -5.358790 -5.919798  trypsin  \n",
       "7  -6.821456 -6.887197  trypsin  \n",
       "8  -7.148223 -6.922888  trypsin  \n",
       "9  -7.490998 -7.088666  trypsin  \n",
       "10 -7.891437 -7.479842  trypsin  \n",
       "11 -8.246520 -7.292856  trypsin  "
      ]
     },
     "execution_count": 18,
     "metadata": {},
     "output_type": "execute_result"
    }
   ],
   "source": [
    "tryp"
   ]
  },
  {
   "cell_type": "code",
   "execution_count": null,
   "metadata": {},
   "outputs": [
    {
     "data": {
      "text/plain": [
       "np.True_"
      ]
     },
     "execution_count": 23,
     "metadata": {},
     "output_type": "execute_result"
    }
   ],
   "source": [
    "(chymo.protease_con.values == tryp.protease_con.values).all()"
   ]
  },
  {
   "cell_type": "code",
   "execution_count": null,
   "metadata": {},
   "outputs": [],
   "source": [
    "\n",
    "\"\""
   ]
  }
 ],
 "metadata": {
  "kernelspec": {
   "display_name": "scistanpy",
   "language": "python",
   "name": "python3"
  },
  "language_info": {
   "codemirror_mode": {
    "name": "ipython",
    "version": 3
   },
   "file_extension": ".py",
   "mimetype": "text/x-python",
   "name": "python",
   "nbconvert_exporter": "python",
   "pygments_lexer": "ipython3",
   "version": "3.12.11"
  }
 },
 "nbformat": 4,
 "nbformat_minor": 2
}
