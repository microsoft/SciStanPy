{
 "cells": [
  {
   "cell_type": "code",
   "execution_count": 1,
   "metadata": {},
   "outputs": [
    {
     "data": {
      "text/html": [
       "<script type=\"esms-options\">{\"shimMode\": true}</script><style>*[data-root-id],\n",
       "*[data-root-id] > * {\n",
       "  box-sizing: border-box;\n",
       "  font-family: var(--jp-ui-font-family);\n",
       "  font-size: var(--jp-ui-font-size1);\n",
       "  color: var(--vscode-editor-foreground, var(--jp-ui-font-color1));\n",
       "}\n",
       "\n",
       "/* Override VSCode background color */\n",
       ".cell-output-ipywidget-background:has(\n",
       "  > .cell-output-ipywidget-background > .lm-Widget > *[data-root-id]\n",
       "),\n",
       ".cell-output-ipywidget-background:has(> .lm-Widget > *[data-root-id]) {\n",
       "  background-color: transparent !important;\n",
       "}\n",
       "</style>"
      ]
     },
     "metadata": {},
     "output_type": "display_data"
    },
    {
     "data": {
      "application/javascript": "(function(root) {\n  function now() {\n    return new Date();\n  }\n\n  const force = true;\n  const py_version = '3.7.3'.replace('rc', '-rc.').replace('.dev', '-dev.');\n  const reloading = false;\n  const Bokeh = root.Bokeh;\n\n  // Set a timeout for this load but only if we are not already initializing\n  if (typeof (root._bokeh_timeout) === \"undefined\" || (force || !root._bokeh_is_initializing)) {\n    root._bokeh_timeout = Date.now() + 5000;\n    root._bokeh_failed_load = false;\n  }\n\n  function run_callbacks() {\n    try {\n      root._bokeh_onload_callbacks.forEach(function(callback) {\n        if (callback != null)\n          callback();\n      });\n    } finally {\n      delete root._bokeh_onload_callbacks;\n    }\n    console.debug(\"Bokeh: all callbacks have finished\");\n  }\n\n  function load_libs(css_urls, js_urls, js_modules, js_exports, callback) {\n    if (css_urls == null) css_urls = [];\n    if (js_urls == null) js_urls = [];\n    if (js_modules == null) js_modules = [];\n    if (js_exports == null) js_exports = {};\n\n    root._bokeh_onload_callbacks.push(callback);\n\n    if (root._bokeh_is_loading > 0) {\n      // Don't load bokeh if it is still initializing\n      console.debug(\"Bokeh: BokehJS is being loaded, scheduling callback at\", now());\n      return null;\n    } else if (js_urls.length === 0 && js_modules.length === 0 && Object.keys(js_exports).length === 0) {\n      // There is nothing to load\n      run_callbacks();\n      return null;\n    }\n\n    function on_load() {\n      root._bokeh_is_loading--;\n      if (root._bokeh_is_loading === 0) {\n        console.debug(\"Bokeh: all BokehJS libraries/stylesheets loaded\");\n        run_callbacks()\n      }\n    }\n    window._bokeh_on_load = on_load\n\n    function on_error(e) {\n      const src_el = e.srcElement\n      console.error(\"failed to load \" + (src_el.href || src_el.src));\n    }\n\n    const skip = [];\n    if (window.requirejs) {\n      window.requirejs.config({'packages': {}, 'paths': {}, 'shim': {}});\n      root._bokeh_is_loading = css_urls.length + 0;\n    } else {\n      root._bokeh_is_loading = css_urls.length + js_urls.length + js_modules.length + Object.keys(js_exports).length;\n    }\n\n    const existing_stylesheets = []\n    const links = document.getElementsByTagName('link')\n    for (let i = 0; i < links.length; i++) {\n      const link = links[i]\n      if (link.href != null) {\n        existing_stylesheets.push(link.href)\n      }\n    }\n    for (let i = 0; i < css_urls.length; i++) {\n      const url = css_urls[i];\n      const escaped = encodeURI(url)\n      if (existing_stylesheets.indexOf(escaped) !== -1) {\n        on_load()\n        continue;\n      }\n      const element = document.createElement(\"link\");\n      element.onload = on_load;\n      element.onerror = on_error;\n      element.rel = \"stylesheet\";\n      element.type = \"text/css\";\n      element.href = url;\n      console.debug(\"Bokeh: injecting link tag for BokehJS stylesheet: \", url);\n      document.body.appendChild(element);\n    }    var existing_scripts = []\n    const scripts = document.getElementsByTagName('script')\n    for (let i = 0; i < scripts.length; i++) {\n      var script = scripts[i]\n      if (script.src != null) {\n        existing_scripts.push(script.src)\n      }\n    }\n    for (let i = 0; i < js_urls.length; i++) {\n      const url = js_urls[i];\n      const escaped = encodeURI(url)\n      if (skip.indexOf(escaped) !== -1 || existing_scripts.indexOf(escaped) !== -1) {\n        if (!window.requirejs) {\n          on_load();\n        }\n        continue;\n      }\n      const element = document.createElement('script');\n      element.onload = on_load;\n      element.onerror = on_error;\n      element.async = false;\n      element.src = url;\n      console.debug(\"Bokeh: injecting script tag for BokehJS library: \", url);\n      document.head.appendChild(element);\n    }\n    for (let i = 0; i < js_modules.length; i++) {\n      const url = js_modules[i];\n      const escaped = encodeURI(url)\n      if (skip.indexOf(escaped) !== -1 || existing_scripts.indexOf(escaped) !== -1) {\n        if (!window.requirejs) {\n          on_load();\n        }\n        continue;\n      }\n      var element = document.createElement('script');\n      element.onload = on_load;\n      element.onerror = on_error;\n      element.async = false;\n      element.src = url;\n      element.type = \"module\";\n      console.debug(\"Bokeh: injecting script tag for BokehJS library: \", url);\n      document.head.appendChild(element);\n    }\n    for (const name in js_exports) {\n      const url = js_exports[name];\n      const escaped = encodeURI(url)\n      if (skip.indexOf(escaped) >= 0 || root[name] != null) {\n        if (!window.requirejs) {\n          on_load();\n        }\n        continue;\n      }\n      var element = document.createElement('script');\n      element.onerror = on_error;\n      element.async = false;\n      element.type = \"module\";\n      console.debug(\"Bokeh: injecting script tag for BokehJS library: \", url);\n      element.textContent = `\n      import ${name} from \"${url}\"\n      window.${name} = ${name}\n      window._bokeh_on_load()\n      `\n      document.head.appendChild(element);\n    }\n    if (!js_urls.length && !js_modules.length) {\n      on_load()\n    }\n  };\n\n  function inject_raw_css(css) {\n    const element = document.createElement(\"style\");\n    element.appendChild(document.createTextNode(css));\n    document.body.appendChild(element);\n  }\n\n  const js_urls = [\"https://cdn.holoviz.org/panel/1.7.5/dist/bundled/reactiveesm/es-module-shims@^1.10.0/dist/es-module-shims.min.js\", \"https://cdn.bokeh.org/bokeh/release/bokeh-3.7.3.min.js\", \"https://cdn.bokeh.org/bokeh/release/bokeh-gl-3.7.3.min.js\", \"https://cdn.bokeh.org/bokeh/release/bokeh-widgets-3.7.3.min.js\", \"https://cdn.bokeh.org/bokeh/release/bokeh-tables-3.7.3.min.js\", \"https://cdn.holoviz.org/panel/1.7.5/dist/panel.min.js\"];\n  const js_modules = [];\n  const js_exports = {};\n  const css_urls = [];\n  const inline_js = [    function(Bokeh) {\n      Bokeh.set_log_level(\"info\");\n    },\nfunction(Bokeh) {} // ensure no trailing comma for IE\n  ];\n\n  function run_inline_js() {\n    if ((root.Bokeh !== undefined) || (force === true)) {\n      for (let i = 0; i < inline_js.length; i++) {\n        try {\n          inline_js[i].call(root, root.Bokeh);\n        } catch(e) {\n          if (!reloading) {\n            throw e;\n          }\n        }\n      }\n      // Cache old bokeh versions\n      if (Bokeh != undefined && !reloading) {\n        var NewBokeh = root.Bokeh;\n        if (Bokeh.versions === undefined) {\n          Bokeh.versions = new Map();\n        }\n        if (NewBokeh.version !== Bokeh.version) {\n          Bokeh.versions.set(NewBokeh.version, NewBokeh)\n        }\n        root.Bokeh = Bokeh;\n      }\n    } else if (Date.now() < root._bokeh_timeout) {\n      setTimeout(run_inline_js, 100);\n    } else if (!root._bokeh_failed_load) {\n      console.log(\"Bokeh: BokehJS failed to load within specified timeout.\");\n      root._bokeh_failed_load = true;\n    }\n    root._bokeh_is_initializing = false\n  }\n\n  function load_or_wait() {\n    // Implement a backoff loop that tries to ensure we do not load multiple\n    // versions of Bokeh and its dependencies at the same time.\n    // In recent versions we use the root._bokeh_is_initializing flag\n    // to determine whether there is an ongoing attempt to initialize\n    // bokeh, however for backward compatibility we also try to ensure\n    // that we do not start loading a newer (Panel>=1.0 and Bokeh>3) version\n    // before older versions are fully initialized.\n    if (root._bokeh_is_initializing && Date.now() > root._bokeh_timeout) {\n      // If the timeout and bokeh was not successfully loaded we reset\n      // everything and try loading again\n      root._bokeh_timeout = Date.now() + 5000;\n      root._bokeh_is_initializing = false;\n      root._bokeh_onload_callbacks = undefined;\n      root._bokeh_is_loading = 0\n      console.log(\"Bokeh: BokehJS was loaded multiple times but one version failed to initialize.\");\n      load_or_wait();\n    } else if (root._bokeh_is_initializing || (typeof root._bokeh_is_initializing === \"undefined\" && root._bokeh_onload_callbacks !== undefined)) {\n      setTimeout(load_or_wait, 100);\n    } else {\n      root._bokeh_is_initializing = true\n      root._bokeh_onload_callbacks = []\n      const bokeh_loaded = root.Bokeh != null && (root.Bokeh.version === py_version || (root.Bokeh.versions !== undefined && root.Bokeh.versions.has(py_version)));\n      if (!reloading && !bokeh_loaded) {\n        if (root.Bokeh) {\n          root.Bokeh = undefined;\n        }\n        console.debug(\"Bokeh: BokehJS not loaded, scheduling load and callback at\", now());\n      }\n      load_libs(css_urls, js_urls, js_modules, js_exports, function() {\n        console.debug(\"Bokeh: BokehJS plotting callback run at\", now());\n        run_inline_js();\n      });\n    }\n  }\n  // Give older versions of the autoload script a head-start to ensure\n  // they initialize before we start loading newer version.\n  setTimeout(load_or_wait, 100)\n}(window));",
      "application/vnd.holoviews_load.v0+json": ""
     },
     "metadata": {},
     "output_type": "display_data"
    },
    {
     "data": {
      "application/javascript": "\nif ((window.PyViz === undefined) || (window.PyViz instanceof HTMLElement)) {\n  window.PyViz = {comms: {}, comm_status:{}, kernels:{}, receivers: {}, plot_index: []}\n}\n\n\n    function JupyterCommManager() {\n    }\n\n    JupyterCommManager.prototype.register_target = function(plot_id, comm_id, msg_handler) {\n      if (window.comm_manager || ((window.Jupyter !== undefined) && (Jupyter.notebook.kernel != null))) {\n        var comm_manager = window.comm_manager || Jupyter.notebook.kernel.comm_manager;\n        comm_manager.register_target(comm_id, function(comm) {\n          comm.on_msg(msg_handler);\n        });\n      } else if ((plot_id in window.PyViz.kernels) && (window.PyViz.kernels[plot_id])) {\n        window.PyViz.kernels[plot_id].registerCommTarget(comm_id, function(comm) {\n          comm.onMsg = msg_handler;\n        });\n      } else if (typeof google != 'undefined' && google.colab.kernel != null) {\n        google.colab.kernel.comms.registerTarget(comm_id, (comm) => {\n          var messages = comm.messages[Symbol.asyncIterator]();\n          function processIteratorResult(result) {\n            var message = result.value;\n            var content = {data: message.data, comm_id};\n            var buffers = []\n            for (var buffer of message.buffers || []) {\n              buffers.push(new DataView(buffer))\n            }\n            var metadata = message.metadata || {};\n            var msg = {content, buffers, metadata}\n            msg_handler(msg);\n            return messages.next().then(processIteratorResult);\n          }\n          return messages.next().then(processIteratorResult);\n        })\n      }\n    }\n\n    JupyterCommManager.prototype.get_client_comm = function(plot_id, comm_id, msg_handler) {\n      if (comm_id in window.PyViz.comms) {\n        return window.PyViz.comms[comm_id];\n      } else if (window.comm_manager || ((window.Jupyter !== undefined) && (Jupyter.notebook.kernel != null))) {\n        var comm_manager = window.comm_manager || Jupyter.notebook.kernel.comm_manager;\n        var comm = comm_manager.new_comm(comm_id, {}, {}, {}, comm_id);\n        if (msg_handler) {\n          comm.on_msg(msg_handler);\n        }\n      } else if ((plot_id in window.PyViz.kernels) && (window.PyViz.kernels[plot_id])) {\n        var comm = window.PyViz.kernels[plot_id].connectToComm(comm_id);\n        let retries = 0;\n        const open = () => {\n          if (comm.active) {\n            comm.open();\n          } else if (retries > 3) {\n            console.warn('Comm target never activated')\n          } else {\n            retries += 1\n            setTimeout(open, 500)\n          }\n        }\n        if (comm.active) {\n          comm.open();\n        } else {\n          setTimeout(open, 500)\n        }\n        if (msg_handler) {\n          comm.onMsg = msg_handler;\n        }\n      } else if (typeof google != 'undefined' && google.colab.kernel != null) {\n        var comm_promise = google.colab.kernel.comms.open(comm_id)\n        comm_promise.then((comm) => {\n          window.PyViz.comms[comm_id] = comm;\n          if (msg_handler) {\n            var messages = comm.messages[Symbol.asyncIterator]();\n            function processIteratorResult(result) {\n              var message = result.value;\n              var content = {data: message.data};\n              var metadata = message.metadata || {comm_id};\n              var msg = {content, metadata}\n              msg_handler(msg);\n              return messages.next().then(processIteratorResult);\n            }\n            return messages.next().then(processIteratorResult);\n          }\n        })\n        var sendClosure = (data, metadata, buffers, disposeOnDone) => {\n          return comm_promise.then((comm) => {\n            comm.send(data, metadata, buffers, disposeOnDone);\n          });\n        };\n        var comm = {\n          send: sendClosure\n        };\n      }\n      window.PyViz.comms[comm_id] = comm;\n      return comm;\n    }\n    window.PyViz.comm_manager = new JupyterCommManager();\n    \n\n\nvar JS_MIME_TYPE = 'application/javascript';\nvar HTML_MIME_TYPE = 'text/html';\nvar EXEC_MIME_TYPE = 'application/vnd.holoviews_exec.v0+json';\nvar CLASS_NAME = 'output';\n\n/**\n * Render data to the DOM node\n */\nfunction render(props, node) {\n  var div = document.createElement(\"div\");\n  var script = document.createElement(\"script\");\n  node.appendChild(div);\n  node.appendChild(script);\n}\n\n/**\n * Handle when a new output is added\n */\nfunction handle_add_output(event, handle) {\n  var output_area = handle.output_area;\n  var output = handle.output;\n  if ((output.data == undefined) || (!output.data.hasOwnProperty(EXEC_MIME_TYPE))) {\n    return\n  }\n  var id = output.metadata[EXEC_MIME_TYPE][\"id\"];\n  var toinsert = output_area.element.find(\".\" + CLASS_NAME.split(' ')[0]);\n  if (id !== undefined) {\n    var nchildren = toinsert.length;\n    var html_node = toinsert[nchildren-1].children[0];\n    html_node.innerHTML = output.data[HTML_MIME_TYPE];\n    var scripts = [];\n    var nodelist = html_node.querySelectorAll(\"script\");\n    for (var i in nodelist) {\n      if (nodelist.hasOwnProperty(i)) {\n        scripts.push(nodelist[i])\n      }\n    }\n\n    scripts.forEach( function (oldScript) {\n      var newScript = document.createElement(\"script\");\n      var attrs = [];\n      var nodemap = oldScript.attributes;\n      for (var j in nodemap) {\n        if (nodemap.hasOwnProperty(j)) {\n          attrs.push(nodemap[j])\n        }\n      }\n      attrs.forEach(function(attr) { newScript.setAttribute(attr.name, attr.value) });\n      newScript.appendChild(document.createTextNode(oldScript.innerHTML));\n      oldScript.parentNode.replaceChild(newScript, oldScript);\n    });\n    if (JS_MIME_TYPE in output.data) {\n      toinsert[nchildren-1].children[1].textContent = output.data[JS_MIME_TYPE];\n    }\n    output_area._hv_plot_id = id;\n    if ((window.Bokeh !== undefined) && (id in Bokeh.index)) {\n      window.PyViz.plot_index[id] = Bokeh.index[id];\n    } else {\n      window.PyViz.plot_index[id] = null;\n    }\n  } else if (output.metadata[EXEC_MIME_TYPE][\"server_id\"] !== undefined) {\n    var bk_div = document.createElement(\"div\");\n    bk_div.innerHTML = output.data[HTML_MIME_TYPE];\n    var script_attrs = bk_div.children[0].attributes;\n    for (var i = 0; i < script_attrs.length; i++) {\n      toinsert[toinsert.length - 1].childNodes[1].setAttribute(script_attrs[i].name, script_attrs[i].value);\n    }\n    // store reference to server id on output_area\n    output_area._bokeh_server_id = output.metadata[EXEC_MIME_TYPE][\"server_id\"];\n  }\n}\n\n/**\n * Handle when an output is cleared or removed\n */\nfunction handle_clear_output(event, handle) {\n  var id = handle.cell.output_area._hv_plot_id;\n  var server_id = handle.cell.output_area._bokeh_server_id;\n  if (((id === undefined) || !(id in PyViz.plot_index)) && (server_id !== undefined)) { return; }\n  var comm = window.PyViz.comm_manager.get_client_comm(\"hv-extension-comm\", \"hv-extension-comm\", function () {});\n  if (server_id !== null) {\n    comm.send({event_type: 'server_delete', 'id': server_id});\n    return;\n  } else if (comm !== null) {\n    comm.send({event_type: 'delete', 'id': id});\n  }\n  delete PyViz.plot_index[id];\n  if ((window.Bokeh !== undefined) & (id in window.Bokeh.index)) {\n    var doc = window.Bokeh.index[id].model.document\n    doc.clear();\n    const i = window.Bokeh.documents.indexOf(doc);\n    if (i > -1) {\n      window.Bokeh.documents.splice(i, 1);\n    }\n  }\n}\n\n/**\n * Handle kernel restart event\n */\nfunction handle_kernel_cleanup(event, handle) {\n  delete PyViz.comms[\"hv-extension-comm\"];\n  window.PyViz.plot_index = {}\n}\n\n/**\n * Handle update_display_data messages\n */\nfunction handle_update_output(event, handle) {\n  handle_clear_output(event, {cell: {output_area: handle.output_area}})\n  handle_add_output(event, handle)\n}\n\nfunction register_renderer(events, OutputArea) {\n  function append_mime(data, metadata, element) {\n    // create a DOM node to render to\n    var toinsert = this.create_output_subarea(\n    metadata,\n    CLASS_NAME,\n    EXEC_MIME_TYPE\n    );\n    this.keyboard_manager.register_events(toinsert);\n    // Render to node\n    var props = {data: data, metadata: metadata[EXEC_MIME_TYPE]};\n    render(props, toinsert[0]);\n    element.append(toinsert);\n    return toinsert\n  }\n\n  events.on('output_added.OutputArea', handle_add_output);\n  events.on('output_updated.OutputArea', handle_update_output);\n  events.on('clear_output.CodeCell', handle_clear_output);\n  events.on('delete.Cell', handle_clear_output);\n  events.on('kernel_ready.Kernel', handle_kernel_cleanup);\n\n  OutputArea.prototype.register_mime_type(EXEC_MIME_TYPE, append_mime, {\n    safe: true,\n    index: 0\n  });\n}\n\nif (window.Jupyter !== undefined) {\n  try {\n    var events = require('base/js/events');\n    var OutputArea = require('notebook/js/outputarea').OutputArea;\n    if (OutputArea.prototype.mime_types().indexOf(EXEC_MIME_TYPE) == -1) {\n      register_renderer(events, OutputArea);\n    }\n  } catch(err) {\n  }\n}\n",
      "application/vnd.holoviews_load.v0+json": ""
     },
     "metadata": {},
     "output_type": "display_data"
    },
    {
     "data": {
      "application/vnd.holoviews_exec.v0+json": "",
      "text/html": [
       "<div id='bf27c76f-9dd0-48a3-9049-31f2466165e6'>\n",
       "  <div id=\"da789fe8-04aa-451c-9dd2-27abb1267b46\" data-root-id=\"bf27c76f-9dd0-48a3-9049-31f2466165e6\" style=\"display: contents;\"></div>\n",
       "</div>\n",
       "<script type=\"application/javascript\">(function(root) {\n",
       "  var docs_json = {\"59666568-55d7-4d44-ae9a-e88d3dce549e\":{\"version\":\"3.7.3\",\"title\":\"Bokeh Application\",\"roots\":[{\"type\":\"object\",\"name\":\"panel.models.browser.BrowserInfo\",\"id\":\"bf27c76f-9dd0-48a3-9049-31f2466165e6\"},{\"type\":\"object\",\"name\":\"panel.models.comm_manager.CommManager\",\"id\":\"ee3afff5-be7e-4edd-a612-44f73398c34c\",\"attributes\":{\"plot_id\":\"bf27c76f-9dd0-48a3-9049-31f2466165e6\",\"comm_id\":\"ea79366bc27e4101b24319eb3f414473\",\"client_comm_id\":\"ac2729e9780f4a439ed0957923594540\"}}],\"defs\":[{\"type\":\"model\",\"name\":\"ReactiveHTML1\"},{\"type\":\"model\",\"name\":\"FlexBox1\",\"properties\":[{\"name\":\"align_content\",\"kind\":\"Any\",\"default\":\"flex-start\"},{\"name\":\"align_items\",\"kind\":\"Any\",\"default\":\"flex-start\"},{\"name\":\"flex_direction\",\"kind\":\"Any\",\"default\":\"row\"},{\"name\":\"flex_wrap\",\"kind\":\"Any\",\"default\":\"wrap\"},{\"name\":\"gap\",\"kind\":\"Any\",\"default\":\"\"},{\"name\":\"justify_content\",\"kind\":\"Any\",\"default\":\"flex-start\"}]},{\"type\":\"model\",\"name\":\"FloatPanel1\",\"properties\":[{\"name\":\"config\",\"kind\":\"Any\",\"default\":{\"type\":\"map\"}},{\"name\":\"contained\",\"kind\":\"Any\",\"default\":true},{\"name\":\"position\",\"kind\":\"Any\",\"default\":\"right-top\"},{\"name\":\"offsetx\",\"kind\":\"Any\",\"default\":null},{\"name\":\"offsety\",\"kind\":\"Any\",\"default\":null},{\"name\":\"theme\",\"kind\":\"Any\",\"default\":\"primary\"},{\"name\":\"status\",\"kind\":\"Any\",\"default\":\"normalized\"}]},{\"type\":\"model\",\"name\":\"GridStack1\",\"properties\":[{\"name\":\"ncols\",\"kind\":\"Any\",\"default\":null},{\"name\":\"nrows\",\"kind\":\"Any\",\"default\":null},{\"name\":\"allow_resize\",\"kind\":\"Any\",\"default\":true},{\"name\":\"allow_drag\",\"kind\":\"Any\",\"default\":true},{\"name\":\"state\",\"kind\":\"Any\",\"default\":[]}]},{\"type\":\"model\",\"name\":\"drag1\",\"properties\":[{\"name\":\"slider_width\",\"kind\":\"Any\",\"default\":5},{\"name\":\"slider_color\",\"kind\":\"Any\",\"default\":\"black\"},{\"name\":\"value\",\"kind\":\"Any\",\"default\":50}]},{\"type\":\"model\",\"name\":\"click1\",\"properties\":[{\"name\":\"terminal_output\",\"kind\":\"Any\",\"default\":\"\"},{\"name\":\"debug_name\",\"kind\":\"Any\",\"default\":\"\"},{\"name\":\"clears\",\"kind\":\"Any\",\"default\":0}]},{\"type\":\"model\",\"name\":\"ReactiveESM1\",\"properties\":[{\"name\":\"esm_constants\",\"kind\":\"Any\",\"default\":{\"type\":\"map\"}}]},{\"type\":\"model\",\"name\":\"JSComponent1\",\"properties\":[{\"name\":\"esm_constants\",\"kind\":\"Any\",\"default\":{\"type\":\"map\"}}]},{\"type\":\"model\",\"name\":\"ReactComponent1\",\"properties\":[{\"name\":\"use_shadow_dom\",\"kind\":\"Any\",\"default\":true},{\"name\":\"esm_constants\",\"kind\":\"Any\",\"default\":{\"type\":\"map\"}}]},{\"type\":\"model\",\"name\":\"AnyWidgetComponent1\",\"properties\":[{\"name\":\"use_shadow_dom\",\"kind\":\"Any\",\"default\":true},{\"name\":\"esm_constants\",\"kind\":\"Any\",\"default\":{\"type\":\"map\"}}]},{\"type\":\"model\",\"name\":\"FastWrapper1\",\"properties\":[{\"name\":\"object\",\"kind\":\"Any\",\"default\":null},{\"name\":\"style\",\"kind\":\"Any\",\"default\":null}]},{\"type\":\"model\",\"name\":\"NotificationArea1\",\"properties\":[{\"name\":\"js_events\",\"kind\":\"Any\",\"default\":{\"type\":\"map\"}},{\"name\":\"max_notifications\",\"kind\":\"Any\",\"default\":5},{\"name\":\"notifications\",\"kind\":\"Any\",\"default\":[]},{\"name\":\"position\",\"kind\":\"Any\",\"default\":\"bottom-right\"},{\"name\":\"_clear\",\"kind\":\"Any\",\"default\":0},{\"name\":\"types\",\"kind\":\"Any\",\"default\":[{\"type\":\"map\",\"entries\":[[\"type\",\"warning\"],[\"background\",\"#ffc107\"],[\"icon\",{\"type\":\"map\",\"entries\":[[\"className\",\"fas fa-exclamation-triangle\"],[\"tagName\",\"i\"],[\"color\",\"white\"]]}]]},{\"type\":\"map\",\"entries\":[[\"type\",\"info\"],[\"background\",\"#007bff\"],[\"icon\",{\"type\":\"map\",\"entries\":[[\"className\",\"fas fa-info-circle\"],[\"tagName\",\"i\"],[\"color\",\"white\"]]}]]}]}]},{\"type\":\"model\",\"name\":\"Notification\",\"properties\":[{\"name\":\"background\",\"kind\":\"Any\",\"default\":null},{\"name\":\"duration\",\"kind\":\"Any\",\"default\":3000},{\"name\":\"icon\",\"kind\":\"Any\",\"default\":null},{\"name\":\"message\",\"kind\":\"Any\",\"default\":\"\"},{\"name\":\"notification_type\",\"kind\":\"Any\",\"default\":null},{\"name\":\"_rendered\",\"kind\":\"Any\",\"default\":false},{\"name\":\"_destroyed\",\"kind\":\"Any\",\"default\":false}]},{\"type\":\"model\",\"name\":\"TemplateActions1\",\"properties\":[{\"name\":\"open_modal\",\"kind\":\"Any\",\"default\":0},{\"name\":\"close_modal\",\"kind\":\"Any\",\"default\":0}]},{\"type\":\"model\",\"name\":\"BootstrapTemplateActions1\",\"properties\":[{\"name\":\"open_modal\",\"kind\":\"Any\",\"default\":0},{\"name\":\"close_modal\",\"kind\":\"Any\",\"default\":0}]},{\"type\":\"model\",\"name\":\"TemplateEditor1\",\"properties\":[{\"name\":\"layout\",\"kind\":\"Any\",\"default\":[]}]},{\"type\":\"model\",\"name\":\"MaterialTemplateActions1\",\"properties\":[{\"name\":\"open_modal\",\"kind\":\"Any\",\"default\":0},{\"name\":\"close_modal\",\"kind\":\"Any\",\"default\":0}]},{\"type\":\"model\",\"name\":\"request_value1\",\"properties\":[{\"name\":\"fill\",\"kind\":\"Any\",\"default\":\"none\"},{\"name\":\"_synced\",\"kind\":\"Any\",\"default\":null},{\"name\":\"_request_sync\",\"kind\":\"Any\",\"default\":0}]},{\"type\":\"model\",\"name\":\"holoviews.plotting.bokeh.raster.HoverModel\",\"properties\":[{\"name\":\"xy\",\"kind\":\"Any\",\"default\":null},{\"name\":\"data\",\"kind\":\"Any\",\"default\":null}]}]}};\n",
       "  var render_items = [{\"docid\":\"59666568-55d7-4d44-ae9a-e88d3dce549e\",\"roots\":{\"bf27c76f-9dd0-48a3-9049-31f2466165e6\":\"da789fe8-04aa-451c-9dd2-27abb1267b46\"},\"root_ids\":[\"bf27c76f-9dd0-48a3-9049-31f2466165e6\"]}];\n",
       "  var docs = Object.values(docs_json)\n",
       "  if (!docs) {\n",
       "    return\n",
       "  }\n",
       "  const py_version = docs[0].version.replace('rc', '-rc.').replace('.dev', '-dev.')\n",
       "  async function embed_document(root) {\n",
       "    var Bokeh = get_bokeh(root)\n",
       "    await Bokeh.embed.embed_items_notebook(docs_json, render_items);\n",
       "    for (const render_item of render_items) {\n",
       "      for (const root_id of render_item.root_ids) {\n",
       "\tconst id_el = document.getElementById(root_id)\n",
       "\tif (id_el.children.length && id_el.children[0].hasAttribute('data-root-id')) {\n",
       "\t  const root_el = id_el.children[0]\n",
       "\t  root_el.id = root_el.id + '-rendered'\n",
       "\t  for (const child of root_el.children) {\n",
       "            // Ensure JupyterLab does not capture keyboard shortcuts\n",
       "            // see: https://jupyterlab.readthedocs.io/en/4.1.x/extension/notebook.html#keyboard-interaction-model\n",
       "\t    child.setAttribute('data-lm-suppress-shortcuts', 'true')\n",
       "\t  }\n",
       "\t}\n",
       "      }\n",
       "    }\n",
       "  }\n",
       "  function get_bokeh(root) {\n",
       "    if (root.Bokeh === undefined) {\n",
       "      return null\n",
       "    } else if (root.Bokeh.version !== py_version) {\n",
       "      if (root.Bokeh.versions === undefined || !root.Bokeh.versions.has(py_version)) {\n",
       "\treturn null\n",
       "      }\n",
       "      return root.Bokeh.versions.get(py_version);\n",
       "    } else if (root.Bokeh.version === py_version) {\n",
       "      return root.Bokeh\n",
       "    }\n",
       "    return null\n",
       "  }\n",
       "  function is_loaded(root) {\n",
       "    var Bokeh = get_bokeh(root)\n",
       "    return (Bokeh != null && Bokeh.Panel !== undefined)\n",
       "  }\n",
       "  if (is_loaded(root)) {\n",
       "    embed_document(root);\n",
       "  } else {\n",
       "    var attempts = 0;\n",
       "    var timer = setInterval(function(root) {\n",
       "      if (is_loaded(root)) {\n",
       "        clearInterval(timer);\n",
       "        embed_document(root);\n",
       "      } else if (document.readyState == \"complete\") {\n",
       "        attempts++;\n",
       "        if (attempts > 200) {\n",
       "          clearInterval(timer);\n",
       "\t  var Bokeh = get_bokeh(root)\n",
       "\t  if (Bokeh == null || Bokeh.Panel == null) {\n",
       "            console.warn(\"Panel: ERROR: Unable to run Panel code because Bokeh or Panel library is missing\");\n",
       "\t  } else {\n",
       "\t    console.warn(\"Panel: WARNING: Attempting to render but not all required libraries could be resolved.\")\n",
       "\t    embed_document(root)\n",
       "\t  }\n",
       "        }\n",
       "      }\n",
       "    }, 25, root)\n",
       "  }\n",
       "})(window);</script>"
      ]
     },
     "metadata": {
      "application/vnd.holoviews_exec.v0+json": {
       "id": "bf27c76f-9dd0-48a3-9049-31f2466165e6"
      }
     },
     "output_type": "display_data"
    }
   ],
   "source": [
    "from flipv3.nuclease_models import G1Exponential\n",
    "from flipv3.flip_dsets import load_nuclease_data"
   ]
  },
  {
   "cell_type": "code",
   "execution_count": 2,
   "metadata": {},
   "outputs": [],
   "source": [
    "g1_data = load_nuclease_data(\n",
    "    processed_data_dir = \"/home/bwittmann/GitRepos/SciStanPy/flip3_data/raw_data/nuclease/processed_data\",\n",
    "    processed_fiducial_data_dir = \"/home/bwittmann/GitRepos/SciStanPy/flip3_data/raw_data/nuclease/processed_fiducial_data\",\n",
    "    gen = \"G1\",\n",
    ")\n",
    "variants = g1_data.pop(\"variants\")"
   ]
  },
  {
   "cell_type": "code",
   "execution_count": 3,
   "metadata": {},
   "outputs": [],
   "source": [
    "model = G1Exponential(**g1_data)"
   ]
  },
  {
   "cell_type": "code",
   "execution_count": 4,
   "metadata": {},
   "outputs": [
    {
     "data": {
      "text/html": [
       "<script type=\"esms-options\">{\"shimMode\": true}</script><style>*[data-root-id],\n",
       "*[data-root-id] > * {\n",
       "  box-sizing: border-box;\n",
       "  font-family: var(--jp-ui-font-family);\n",
       "  font-size: var(--jp-ui-font-size1);\n",
       "  color: var(--vscode-editor-foreground, var(--jp-ui-font-color1));\n",
       "}\n",
       "\n",
       "/* Override VSCode background color */\n",
       ".cell-output-ipywidget-background:has(\n",
       "  > .cell-output-ipywidget-background > .lm-Widget > *[data-root-id]\n",
       "),\n",
       ".cell-output-ipywidget-background:has(> .lm-Widget > *[data-root-id]) {\n",
       "  background-color: transparent !important;\n",
       "}\n",
       "</style>"
      ]
     },
     "metadata": {},
     "output_type": "display_data"
    },
    {
     "data": {
      "application/javascript": "(function(root) {\n  function now() {\n    return new Date();\n  }\n\n  const force = true;\n  const py_version = '3.7.3'.replace('rc', '-rc.').replace('.dev', '-dev.');\n  const reloading = false;\n  const Bokeh = root.Bokeh;\n\n  // Set a timeout for this load but only if we are not already initializing\n  if (typeof (root._bokeh_timeout) === \"undefined\" || (force || !root._bokeh_is_initializing)) {\n    root._bokeh_timeout = Date.now() + 5000;\n    root._bokeh_failed_load = false;\n  }\n\n  function run_callbacks() {\n    try {\n      root._bokeh_onload_callbacks.forEach(function(callback) {\n        if (callback != null)\n          callback();\n      });\n    } finally {\n      delete root._bokeh_onload_callbacks;\n    }\n    console.debug(\"Bokeh: all callbacks have finished\");\n  }\n\n  function load_libs(css_urls, js_urls, js_modules, js_exports, callback) {\n    if (css_urls == null) css_urls = [];\n    if (js_urls == null) js_urls = [];\n    if (js_modules == null) js_modules = [];\n    if (js_exports == null) js_exports = {};\n\n    root._bokeh_onload_callbacks.push(callback);\n\n    if (root._bokeh_is_loading > 0) {\n      // Don't load bokeh if it is still initializing\n      console.debug(\"Bokeh: BokehJS is being loaded, scheduling callback at\", now());\n      return null;\n    } else if (js_urls.length === 0 && js_modules.length === 0 && Object.keys(js_exports).length === 0) {\n      // There is nothing to load\n      run_callbacks();\n      return null;\n    }\n\n    function on_load() {\n      root._bokeh_is_loading--;\n      if (root._bokeh_is_loading === 0) {\n        console.debug(\"Bokeh: all BokehJS libraries/stylesheets loaded\");\n        run_callbacks()\n      }\n    }\n    window._bokeh_on_load = on_load\n\n    function on_error(e) {\n      const src_el = e.srcElement\n      console.error(\"failed to load \" + (src_el.href || src_el.src));\n    }\n\n    const skip = [];\n    if (window.requirejs) {\n      window.requirejs.config({'packages': {}, 'paths': {}, 'shim': {}});\n      root._bokeh_is_loading = css_urls.length + 0;\n    } else {\n      root._bokeh_is_loading = css_urls.length + js_urls.length + js_modules.length + Object.keys(js_exports).length;\n    }\n\n    const existing_stylesheets = []\n    const links = document.getElementsByTagName('link')\n    for (let i = 0; i < links.length; i++) {\n      const link = links[i]\n      if (link.href != null) {\n        existing_stylesheets.push(link.href)\n      }\n    }\n    for (let i = 0; i < css_urls.length; i++) {\n      const url = css_urls[i];\n      const escaped = encodeURI(url)\n      if (existing_stylesheets.indexOf(escaped) !== -1) {\n        on_load()\n        continue;\n      }\n      const element = document.createElement(\"link\");\n      element.onload = on_load;\n      element.onerror = on_error;\n      element.rel = \"stylesheet\";\n      element.type = \"text/css\";\n      element.href = url;\n      console.debug(\"Bokeh: injecting link tag for BokehJS stylesheet: \", url);\n      document.body.appendChild(element);\n    }    var existing_scripts = []\n    const scripts = document.getElementsByTagName('script')\n    for (let i = 0; i < scripts.length; i++) {\n      var script = scripts[i]\n      if (script.src != null) {\n        existing_scripts.push(script.src)\n      }\n    }\n    for (let i = 0; i < js_urls.length; i++) {\n      const url = js_urls[i];\n      const escaped = encodeURI(url)\n      if (skip.indexOf(escaped) !== -1 || existing_scripts.indexOf(escaped) !== -1) {\n        if (!window.requirejs) {\n          on_load();\n        }\n        continue;\n      }\n      const element = document.createElement('script');\n      element.onload = on_load;\n      element.onerror = on_error;\n      element.async = false;\n      element.src = url;\n      console.debug(\"Bokeh: injecting script tag for BokehJS library: \", url);\n      document.head.appendChild(element);\n    }\n    for (let i = 0; i < js_modules.length; i++) {\n      const url = js_modules[i];\n      const escaped = encodeURI(url)\n      if (skip.indexOf(escaped) !== -1 || existing_scripts.indexOf(escaped) !== -1) {\n        if (!window.requirejs) {\n          on_load();\n        }\n        continue;\n      }\n      var element = document.createElement('script');\n      element.onload = on_load;\n      element.onerror = on_error;\n      element.async = false;\n      element.src = url;\n      element.type = \"module\";\n      console.debug(\"Bokeh: injecting script tag for BokehJS library: \", url);\n      document.head.appendChild(element);\n    }\n    for (const name in js_exports) {\n      const url = js_exports[name];\n      const escaped = encodeURI(url)\n      if (skip.indexOf(escaped) >= 0 || root[name] != null) {\n        if (!window.requirejs) {\n          on_load();\n        }\n        continue;\n      }\n      var element = document.createElement('script');\n      element.onerror = on_error;\n      element.async = false;\n      element.type = \"module\";\n      console.debug(\"Bokeh: injecting script tag for BokehJS library: \", url);\n      element.textContent = `\n      import ${name} from \"${url}\"\n      window.${name} = ${name}\n      window._bokeh_on_load()\n      `\n      document.head.appendChild(element);\n    }\n    if (!js_urls.length && !js_modules.length) {\n      on_load()\n    }\n  };\n\n  function inject_raw_css(css) {\n    const element = document.createElement(\"style\");\n    element.appendChild(document.createTextNode(css));\n    document.body.appendChild(element);\n  }\n\n  const js_urls = [\"https://cdn.holoviz.org/panel/1.7.5/dist/bundled/reactiveesm/es-module-shims@^1.10.0/dist/es-module-shims.min.js\", \"https://cdn.bokeh.org/bokeh/release/bokeh-3.7.3.min.js\", \"https://cdn.bokeh.org/bokeh/release/bokeh-gl-3.7.3.min.js\", \"https://cdn.bokeh.org/bokeh/release/bokeh-widgets-3.7.3.min.js\", \"https://cdn.bokeh.org/bokeh/release/bokeh-tables-3.7.3.min.js\", \"https://cdn.holoviz.org/panel/1.7.5/dist/panel.min.js\"];\n  const js_modules = [];\n  const js_exports = {};\n  const css_urls = [];\n  const inline_js = [    function(Bokeh) {\n      Bokeh.set_log_level(\"info\");\n    },\nfunction(Bokeh) {} // ensure no trailing comma for IE\n  ];\n\n  function run_inline_js() {\n    if ((root.Bokeh !== undefined) || (force === true)) {\n      for (let i = 0; i < inline_js.length; i++) {\n        try {\n          inline_js[i].call(root, root.Bokeh);\n        } catch(e) {\n          if (!reloading) {\n            throw e;\n          }\n        }\n      }\n      // Cache old bokeh versions\n      if (Bokeh != undefined && !reloading) {\n        var NewBokeh = root.Bokeh;\n        if (Bokeh.versions === undefined) {\n          Bokeh.versions = new Map();\n        }\n        if (NewBokeh.version !== Bokeh.version) {\n          Bokeh.versions.set(NewBokeh.version, NewBokeh)\n        }\n        root.Bokeh = Bokeh;\n      }\n    } else if (Date.now() < root._bokeh_timeout) {\n      setTimeout(run_inline_js, 100);\n    } else if (!root._bokeh_failed_load) {\n      console.log(\"Bokeh: BokehJS failed to load within specified timeout.\");\n      root._bokeh_failed_load = true;\n    }\n    root._bokeh_is_initializing = false\n  }\n\n  function load_or_wait() {\n    // Implement a backoff loop that tries to ensure we do not load multiple\n    // versions of Bokeh and its dependencies at the same time.\n    // In recent versions we use the root._bokeh_is_initializing flag\n    // to determine whether there is an ongoing attempt to initialize\n    // bokeh, however for backward compatibility we also try to ensure\n    // that we do not start loading a newer (Panel>=1.0 and Bokeh>3) version\n    // before older versions are fully initialized.\n    if (root._bokeh_is_initializing && Date.now() > root._bokeh_timeout) {\n      // If the timeout and bokeh was not successfully loaded we reset\n      // everything and try loading again\n      root._bokeh_timeout = Date.now() + 5000;\n      root._bokeh_is_initializing = false;\n      root._bokeh_onload_callbacks = undefined;\n      root._bokeh_is_loading = 0\n      console.log(\"Bokeh: BokehJS was loaded multiple times but one version failed to initialize.\");\n      load_or_wait();\n    } else if (root._bokeh_is_initializing || (typeof root._bokeh_is_initializing === \"undefined\" && root._bokeh_onload_callbacks !== undefined)) {\n      setTimeout(load_or_wait, 100);\n    } else {\n      root._bokeh_is_initializing = true\n      root._bokeh_onload_callbacks = []\n      const bokeh_loaded = root.Bokeh != null && (root.Bokeh.version === py_version || (root.Bokeh.versions !== undefined && root.Bokeh.versions.has(py_version)));\n      if (!reloading && !bokeh_loaded) {\n        if (root.Bokeh) {\n          root.Bokeh = undefined;\n        }\n        console.debug(\"Bokeh: BokehJS not loaded, scheduling load and callback at\", now());\n      }\n      load_libs(css_urls, js_urls, js_modules, js_exports, function() {\n        console.debug(\"Bokeh: BokehJS plotting callback run at\", now());\n        run_inline_js();\n      });\n    }\n  }\n  // Give older versions of the autoload script a head-start to ensure\n  // they initialize before we start loading newer version.\n  setTimeout(load_or_wait, 100)\n}(window));",
      "application/vnd.holoviews_load.v0+json": ""
     },
     "metadata": {},
     "output_type": "display_data"
    },
    {
     "data": {
      "application/javascript": "\nif ((window.PyViz === undefined) || (window.PyViz instanceof HTMLElement)) {\n  window.PyViz = {comms: {}, comm_status:{}, kernels:{}, receivers: {}, plot_index: []}\n}\n\n\n    function JupyterCommManager() {\n    }\n\n    JupyterCommManager.prototype.register_target = function(plot_id, comm_id, msg_handler) {\n      if (window.comm_manager || ((window.Jupyter !== undefined) && (Jupyter.notebook.kernel != null))) {\n        var comm_manager = window.comm_manager || Jupyter.notebook.kernel.comm_manager;\n        comm_manager.register_target(comm_id, function(comm) {\n          comm.on_msg(msg_handler);\n        });\n      } else if ((plot_id in window.PyViz.kernels) && (window.PyViz.kernels[plot_id])) {\n        window.PyViz.kernels[plot_id].registerCommTarget(comm_id, function(comm) {\n          comm.onMsg = msg_handler;\n        });\n      } else if (typeof google != 'undefined' && google.colab.kernel != null) {\n        google.colab.kernel.comms.registerTarget(comm_id, (comm) => {\n          var messages = comm.messages[Symbol.asyncIterator]();\n          function processIteratorResult(result) {\n            var message = result.value;\n            var content = {data: message.data, comm_id};\n            var buffers = []\n            for (var buffer of message.buffers || []) {\n              buffers.push(new DataView(buffer))\n            }\n            var metadata = message.metadata || {};\n            var msg = {content, buffers, metadata}\n            msg_handler(msg);\n            return messages.next().then(processIteratorResult);\n          }\n          return messages.next().then(processIteratorResult);\n        })\n      }\n    }\n\n    JupyterCommManager.prototype.get_client_comm = function(plot_id, comm_id, msg_handler) {\n      if (comm_id in window.PyViz.comms) {\n        return window.PyViz.comms[comm_id];\n      } else if (window.comm_manager || ((window.Jupyter !== undefined) && (Jupyter.notebook.kernel != null))) {\n        var comm_manager = window.comm_manager || Jupyter.notebook.kernel.comm_manager;\n        var comm = comm_manager.new_comm(comm_id, {}, {}, {}, comm_id);\n        if (msg_handler) {\n          comm.on_msg(msg_handler);\n        }\n      } else if ((plot_id in window.PyViz.kernels) && (window.PyViz.kernels[plot_id])) {\n        var comm = window.PyViz.kernels[plot_id].connectToComm(comm_id);\n        let retries = 0;\n        const open = () => {\n          if (comm.active) {\n            comm.open();\n          } else if (retries > 3) {\n            console.warn('Comm target never activated')\n          } else {\n            retries += 1\n            setTimeout(open, 500)\n          }\n        }\n        if (comm.active) {\n          comm.open();\n        } else {\n          setTimeout(open, 500)\n        }\n        if (msg_handler) {\n          comm.onMsg = msg_handler;\n        }\n      } else if (typeof google != 'undefined' && google.colab.kernel != null) {\n        var comm_promise = google.colab.kernel.comms.open(comm_id)\n        comm_promise.then((comm) => {\n          window.PyViz.comms[comm_id] = comm;\n          if (msg_handler) {\n            var messages = comm.messages[Symbol.asyncIterator]();\n            function processIteratorResult(result) {\n              var message = result.value;\n              var content = {data: message.data};\n              var metadata = message.metadata || {comm_id};\n              var msg = {content, metadata}\n              msg_handler(msg);\n              return messages.next().then(processIteratorResult);\n            }\n            return messages.next().then(processIteratorResult);\n          }\n        })\n        var sendClosure = (data, metadata, buffers, disposeOnDone) => {\n          return comm_promise.then((comm) => {\n            comm.send(data, metadata, buffers, disposeOnDone);\n          });\n        };\n        var comm = {\n          send: sendClosure\n        };\n      }\n      window.PyViz.comms[comm_id] = comm;\n      return comm;\n    }\n    window.PyViz.comm_manager = new JupyterCommManager();\n    \n\n\nvar JS_MIME_TYPE = 'application/javascript';\nvar HTML_MIME_TYPE = 'text/html';\nvar EXEC_MIME_TYPE = 'application/vnd.holoviews_exec.v0+json';\nvar CLASS_NAME = 'output';\n\n/**\n * Render data to the DOM node\n */\nfunction render(props, node) {\n  var div = document.createElement(\"div\");\n  var script = document.createElement(\"script\");\n  node.appendChild(div);\n  node.appendChild(script);\n}\n\n/**\n * Handle when a new output is added\n */\nfunction handle_add_output(event, handle) {\n  var output_area = handle.output_area;\n  var output = handle.output;\n  if ((output.data == undefined) || (!output.data.hasOwnProperty(EXEC_MIME_TYPE))) {\n    return\n  }\n  var id = output.metadata[EXEC_MIME_TYPE][\"id\"];\n  var toinsert = output_area.element.find(\".\" + CLASS_NAME.split(' ')[0]);\n  if (id !== undefined) {\n    var nchildren = toinsert.length;\n    var html_node = toinsert[nchildren-1].children[0];\n    html_node.innerHTML = output.data[HTML_MIME_TYPE];\n    var scripts = [];\n    var nodelist = html_node.querySelectorAll(\"script\");\n    for (var i in nodelist) {\n      if (nodelist.hasOwnProperty(i)) {\n        scripts.push(nodelist[i])\n      }\n    }\n\n    scripts.forEach( function (oldScript) {\n      var newScript = document.createElement(\"script\");\n      var attrs = [];\n      var nodemap = oldScript.attributes;\n      for (var j in nodemap) {\n        if (nodemap.hasOwnProperty(j)) {\n          attrs.push(nodemap[j])\n        }\n      }\n      attrs.forEach(function(attr) { newScript.setAttribute(attr.name, attr.value) });\n      newScript.appendChild(document.createTextNode(oldScript.innerHTML));\n      oldScript.parentNode.replaceChild(newScript, oldScript);\n    });\n    if (JS_MIME_TYPE in output.data) {\n      toinsert[nchildren-1].children[1].textContent = output.data[JS_MIME_TYPE];\n    }\n    output_area._hv_plot_id = id;\n    if ((window.Bokeh !== undefined) && (id in Bokeh.index)) {\n      window.PyViz.plot_index[id] = Bokeh.index[id];\n    } else {\n      window.PyViz.plot_index[id] = null;\n    }\n  } else if (output.metadata[EXEC_MIME_TYPE][\"server_id\"] !== undefined) {\n    var bk_div = document.createElement(\"div\");\n    bk_div.innerHTML = output.data[HTML_MIME_TYPE];\n    var script_attrs = bk_div.children[0].attributes;\n    for (var i = 0; i < script_attrs.length; i++) {\n      toinsert[toinsert.length - 1].childNodes[1].setAttribute(script_attrs[i].name, script_attrs[i].value);\n    }\n    // store reference to server id on output_area\n    output_area._bokeh_server_id = output.metadata[EXEC_MIME_TYPE][\"server_id\"];\n  }\n}\n\n/**\n * Handle when an output is cleared or removed\n */\nfunction handle_clear_output(event, handle) {\n  var id = handle.cell.output_area._hv_plot_id;\n  var server_id = handle.cell.output_area._bokeh_server_id;\n  if (((id === undefined) || !(id in PyViz.plot_index)) && (server_id !== undefined)) { return; }\n  var comm = window.PyViz.comm_manager.get_client_comm(\"hv-extension-comm\", \"hv-extension-comm\", function () {});\n  if (server_id !== null) {\n    comm.send({event_type: 'server_delete', 'id': server_id});\n    return;\n  } else if (comm !== null) {\n    comm.send({event_type: 'delete', 'id': id});\n  }\n  delete PyViz.plot_index[id];\n  if ((window.Bokeh !== undefined) & (id in window.Bokeh.index)) {\n    var doc = window.Bokeh.index[id].model.document\n    doc.clear();\n    const i = window.Bokeh.documents.indexOf(doc);\n    if (i > -1) {\n      window.Bokeh.documents.splice(i, 1);\n    }\n  }\n}\n\n/**\n * Handle kernel restart event\n */\nfunction handle_kernel_cleanup(event, handle) {\n  delete PyViz.comms[\"hv-extension-comm\"];\n  window.PyViz.plot_index = {}\n}\n\n/**\n * Handle update_display_data messages\n */\nfunction handle_update_output(event, handle) {\n  handle_clear_output(event, {cell: {output_area: handle.output_area}})\n  handle_add_output(event, handle)\n}\n\nfunction register_renderer(events, OutputArea) {\n  function append_mime(data, metadata, element) {\n    // create a DOM node to render to\n    var toinsert = this.create_output_subarea(\n    metadata,\n    CLASS_NAME,\n    EXEC_MIME_TYPE\n    );\n    this.keyboard_manager.register_events(toinsert);\n    // Render to node\n    var props = {data: data, metadata: metadata[EXEC_MIME_TYPE]};\n    render(props, toinsert[0]);\n    element.append(toinsert);\n    return toinsert\n  }\n\n  events.on('output_added.OutputArea', handle_add_output);\n  events.on('output_updated.OutputArea', handle_update_output);\n  events.on('clear_output.CodeCell', handle_clear_output);\n  events.on('delete.Cell', handle_clear_output);\n  events.on('kernel_ready.Kernel', handle_kernel_cleanup);\n\n  OutputArea.prototype.register_mime_type(EXEC_MIME_TYPE, append_mime, {\n    safe: true,\n    index: 0\n  });\n}\n\nif (window.Jupyter !== undefined) {\n  try {\n    var events = require('base/js/events');\n    var OutputArea = require('notebook/js/outputarea').OutputArea;\n    if (OutputArea.prototype.mime_types().indexOf(EXEC_MIME_TYPE) == -1) {\n      register_renderer(events, OutputArea);\n    }\n  } catch(err) {\n  }\n}\n",
      "application/vnd.holoviews_load.v0+json": ""
     },
     "metadata": {},
     "output_type": "display_data"
    },
    {
     "data": {
      "application/vnd.holoviews_exec.v0+json": "",
      "text/html": [
       "<div id='e3134629-2272-4769-8229-7daa640e8d87'>\n",
       "  <div id=\"edae473a-59e6-46b4-a74e-ddbd2d8fe1ab\" data-root-id=\"e3134629-2272-4769-8229-7daa640e8d87\" style=\"display: contents;\"></div>\n",
       "</div>\n",
       "<script type=\"application/javascript\">(function(root) {\n",
       "  var docs_json = {\"411e96bd-6eda-4a8f-ab21-eb0e5939fafc\":{\"version\":\"3.7.3\",\"title\":\"Bokeh Application\",\"roots\":[{\"type\":\"object\",\"name\":\"panel.models.browser.BrowserInfo\",\"id\":\"e3134629-2272-4769-8229-7daa640e8d87\"},{\"type\":\"object\",\"name\":\"panel.models.comm_manager.CommManager\",\"id\":\"d2d57c1b-b387-427a-984b-8b05bdcb027c\",\"attributes\":{\"plot_id\":\"e3134629-2272-4769-8229-7daa640e8d87\",\"comm_id\":\"4539088bc9724f3cbb4aa4681410d5cd\",\"client_comm_id\":\"e194e1f1f60f49da8809f710d4c24505\"}}],\"defs\":[{\"type\":\"model\",\"name\":\"ReactiveHTML1\"},{\"type\":\"model\",\"name\":\"FlexBox1\",\"properties\":[{\"name\":\"align_content\",\"kind\":\"Any\",\"default\":\"flex-start\"},{\"name\":\"align_items\",\"kind\":\"Any\",\"default\":\"flex-start\"},{\"name\":\"flex_direction\",\"kind\":\"Any\",\"default\":\"row\"},{\"name\":\"flex_wrap\",\"kind\":\"Any\",\"default\":\"wrap\"},{\"name\":\"gap\",\"kind\":\"Any\",\"default\":\"\"},{\"name\":\"justify_content\",\"kind\":\"Any\",\"default\":\"flex-start\"}]},{\"type\":\"model\",\"name\":\"FloatPanel1\",\"properties\":[{\"name\":\"config\",\"kind\":\"Any\",\"default\":{\"type\":\"map\"}},{\"name\":\"contained\",\"kind\":\"Any\",\"default\":true},{\"name\":\"position\",\"kind\":\"Any\",\"default\":\"right-top\"},{\"name\":\"offsetx\",\"kind\":\"Any\",\"default\":null},{\"name\":\"offsety\",\"kind\":\"Any\",\"default\":null},{\"name\":\"theme\",\"kind\":\"Any\",\"default\":\"primary\"},{\"name\":\"status\",\"kind\":\"Any\",\"default\":\"normalized\"}]},{\"type\":\"model\",\"name\":\"GridStack1\",\"properties\":[{\"name\":\"ncols\",\"kind\":\"Any\",\"default\":null},{\"name\":\"nrows\",\"kind\":\"Any\",\"default\":null},{\"name\":\"allow_resize\",\"kind\":\"Any\",\"default\":true},{\"name\":\"allow_drag\",\"kind\":\"Any\",\"default\":true},{\"name\":\"state\",\"kind\":\"Any\",\"default\":[]}]},{\"type\":\"model\",\"name\":\"drag1\",\"properties\":[{\"name\":\"slider_width\",\"kind\":\"Any\",\"default\":5},{\"name\":\"slider_color\",\"kind\":\"Any\",\"default\":\"black\"},{\"name\":\"value\",\"kind\":\"Any\",\"default\":50}]},{\"type\":\"model\",\"name\":\"click1\",\"properties\":[{\"name\":\"terminal_output\",\"kind\":\"Any\",\"default\":\"\"},{\"name\":\"debug_name\",\"kind\":\"Any\",\"default\":\"\"},{\"name\":\"clears\",\"kind\":\"Any\",\"default\":0}]},{\"type\":\"model\",\"name\":\"ReactiveESM1\",\"properties\":[{\"name\":\"esm_constants\",\"kind\":\"Any\",\"default\":{\"type\":\"map\"}}]},{\"type\":\"model\",\"name\":\"JSComponent1\",\"properties\":[{\"name\":\"esm_constants\",\"kind\":\"Any\",\"default\":{\"type\":\"map\"}}]},{\"type\":\"model\",\"name\":\"ReactComponent1\",\"properties\":[{\"name\":\"use_shadow_dom\",\"kind\":\"Any\",\"default\":true},{\"name\":\"esm_constants\",\"kind\":\"Any\",\"default\":{\"type\":\"map\"}}]},{\"type\":\"model\",\"name\":\"AnyWidgetComponent1\",\"properties\":[{\"name\":\"use_shadow_dom\",\"kind\":\"Any\",\"default\":true},{\"name\":\"esm_constants\",\"kind\":\"Any\",\"default\":{\"type\":\"map\"}}]},{\"type\":\"model\",\"name\":\"FastWrapper1\",\"properties\":[{\"name\":\"object\",\"kind\":\"Any\",\"default\":null},{\"name\":\"style\",\"kind\":\"Any\",\"default\":null}]},{\"type\":\"model\",\"name\":\"NotificationArea1\",\"properties\":[{\"name\":\"js_events\",\"kind\":\"Any\",\"default\":{\"type\":\"map\"}},{\"name\":\"max_notifications\",\"kind\":\"Any\",\"default\":5},{\"name\":\"notifications\",\"kind\":\"Any\",\"default\":[]},{\"name\":\"position\",\"kind\":\"Any\",\"default\":\"bottom-right\"},{\"name\":\"_clear\",\"kind\":\"Any\",\"default\":0},{\"name\":\"types\",\"kind\":\"Any\",\"default\":[{\"type\":\"map\",\"entries\":[[\"type\",\"warning\"],[\"background\",\"#ffc107\"],[\"icon\",{\"type\":\"map\",\"entries\":[[\"className\",\"fas fa-exclamation-triangle\"],[\"tagName\",\"i\"],[\"color\",\"white\"]]}]]},{\"type\":\"map\",\"entries\":[[\"type\",\"info\"],[\"background\",\"#007bff\"],[\"icon\",{\"type\":\"map\",\"entries\":[[\"className\",\"fas fa-info-circle\"],[\"tagName\",\"i\"],[\"color\",\"white\"]]}]]}]}]},{\"type\":\"model\",\"name\":\"Notification\",\"properties\":[{\"name\":\"background\",\"kind\":\"Any\",\"default\":null},{\"name\":\"duration\",\"kind\":\"Any\",\"default\":3000},{\"name\":\"icon\",\"kind\":\"Any\",\"default\":null},{\"name\":\"message\",\"kind\":\"Any\",\"default\":\"\"},{\"name\":\"notification_type\",\"kind\":\"Any\",\"default\":null},{\"name\":\"_rendered\",\"kind\":\"Any\",\"default\":false},{\"name\":\"_destroyed\",\"kind\":\"Any\",\"default\":false}]},{\"type\":\"model\",\"name\":\"TemplateActions1\",\"properties\":[{\"name\":\"open_modal\",\"kind\":\"Any\",\"default\":0},{\"name\":\"close_modal\",\"kind\":\"Any\",\"default\":0}]},{\"type\":\"model\",\"name\":\"BootstrapTemplateActions1\",\"properties\":[{\"name\":\"open_modal\",\"kind\":\"Any\",\"default\":0},{\"name\":\"close_modal\",\"kind\":\"Any\",\"default\":0}]},{\"type\":\"model\",\"name\":\"TemplateEditor1\",\"properties\":[{\"name\":\"layout\",\"kind\":\"Any\",\"default\":[]}]},{\"type\":\"model\",\"name\":\"MaterialTemplateActions1\",\"properties\":[{\"name\":\"open_modal\",\"kind\":\"Any\",\"default\":0},{\"name\":\"close_modal\",\"kind\":\"Any\",\"default\":0}]},{\"type\":\"model\",\"name\":\"request_value1\",\"properties\":[{\"name\":\"fill\",\"kind\":\"Any\",\"default\":\"none\"},{\"name\":\"_synced\",\"kind\":\"Any\",\"default\":null},{\"name\":\"_request_sync\",\"kind\":\"Any\",\"default\":0}]},{\"type\":\"model\",\"name\":\"holoviews.plotting.bokeh.raster.HoverModel\",\"properties\":[{\"name\":\"xy\",\"kind\":\"Any\",\"default\":null},{\"name\":\"data\",\"kind\":\"Any\",\"default\":null}]}]}};\n",
       "  var render_items = [{\"docid\":\"411e96bd-6eda-4a8f-ab21-eb0e5939fafc\",\"roots\":{\"e3134629-2272-4769-8229-7daa640e8d87\":\"edae473a-59e6-46b4-a74e-ddbd2d8fe1ab\"},\"root_ids\":[\"e3134629-2272-4769-8229-7daa640e8d87\"]}];\n",
       "  var docs = Object.values(docs_json)\n",
       "  if (!docs) {\n",
       "    return\n",
       "  }\n",
       "  const py_version = docs[0].version.replace('rc', '-rc.').replace('.dev', '-dev.')\n",
       "  async function embed_document(root) {\n",
       "    var Bokeh = get_bokeh(root)\n",
       "    await Bokeh.embed.embed_items_notebook(docs_json, render_items);\n",
       "    for (const render_item of render_items) {\n",
       "      for (const root_id of render_item.root_ids) {\n",
       "\tconst id_el = document.getElementById(root_id)\n",
       "\tif (id_el.children.length && id_el.children[0].hasAttribute('data-root-id')) {\n",
       "\t  const root_el = id_el.children[0]\n",
       "\t  root_el.id = root_el.id + '-rendered'\n",
       "\t  for (const child of root_el.children) {\n",
       "            // Ensure JupyterLab does not capture keyboard shortcuts\n",
       "            // see: https://jupyterlab.readthedocs.io/en/4.1.x/extension/notebook.html#keyboard-interaction-model\n",
       "\t    child.setAttribute('data-lm-suppress-shortcuts', 'true')\n",
       "\t  }\n",
       "\t}\n",
       "      }\n",
       "    }\n",
       "  }\n",
       "  function get_bokeh(root) {\n",
       "    if (root.Bokeh === undefined) {\n",
       "      return null\n",
       "    } else if (root.Bokeh.version !== py_version) {\n",
       "      if (root.Bokeh.versions === undefined || !root.Bokeh.versions.has(py_version)) {\n",
       "\treturn null\n",
       "      }\n",
       "      return root.Bokeh.versions.get(py_version);\n",
       "    } else if (root.Bokeh.version === py_version) {\n",
       "      return root.Bokeh\n",
       "    }\n",
       "    return null\n",
       "  }\n",
       "  function is_loaded(root) {\n",
       "    var Bokeh = get_bokeh(root)\n",
       "    return (Bokeh != null && Bokeh.Panel !== undefined)\n",
       "  }\n",
       "  if (is_loaded(root)) {\n",
       "    embed_document(root);\n",
       "  } else {\n",
       "    var attempts = 0;\n",
       "    var timer = setInterval(function(root) {\n",
       "      if (is_loaded(root)) {\n",
       "        clearInterval(timer);\n",
       "        embed_document(root);\n",
       "      } else if (document.readyState == \"complete\") {\n",
       "        attempts++;\n",
       "        if (attempts > 200) {\n",
       "          clearInterval(timer);\n",
       "\t  var Bokeh = get_bokeh(root)\n",
       "\t  if (Bokeh == null || Bokeh.Panel == null) {\n",
       "            console.warn(\"Panel: ERROR: Unable to run Panel code because Bokeh or Panel library is missing\");\n",
       "\t  } else {\n",
       "\t    console.warn(\"Panel: WARNING: Attempting to render but not all required libraries could be resolved.\")\n",
       "\t    embed_document(root)\n",
       "\t  }\n",
       "        }\n",
       "      }\n",
       "    }, 25, root)\n",
       "  }\n",
       "})(window);</script>"
      ]
     },
     "metadata": {
      "application/vnd.holoviews_exec.v0+json": {
       "id": "e3134629-2272-4769-8229-7daa640e8d87"
      }
     },
     "output_type": "display_data"
    },
    {
     "data": {
      "application/vnd.jupyter.widget-view+json": {
       "model_id": "0362033ac1df4f0e91ff0851e21d2fa3",
       "version_major": 2,
       "version_minor": 0
      },
      "text/plain": [
       "BokehModel(combine_events=True, render_bundle={'docs_json': {'edb78fbf-6a14-497f-aa6c-43597db367c8': {'version…"
      ]
     },
     "execution_count": 4,
     "metadata": {},
     "output_type": "execute_result"
    }
   ],
   "source": [
    "model.prior_predictive()"
   ]
  },
  {
   "cell_type": "code",
   "execution_count": 5,
   "metadata": {},
   "outputs": [],
   "source": [
    "draw = model.draw(10)"
   ]
  },
  {
   "cell_type": "code",
   "execution_count": 6,
   "metadata": {},
   "outputs": [
    {
     "data": {
      "text/plain": [
       "array([[-2.95718358, -2.95799388, -2.94481276],\n",
       "       [-2.23768724, -2.24305186, -2.23750494],\n",
       "       [-2.32908387, -2.32441886, -2.33027291],\n",
       "       [-1.11672846, -1.11784052, -1.11726377],\n",
       "       [-2.54414084, -2.54257185, -2.54577378],\n",
       "       [-5.01591464, -5.01940803, -5.0159578 ],\n",
       "       [-4.93149721, -4.91933768, -4.9199428 ],\n",
       "       [-4.20140328, -4.19363383, -4.202604  ],\n",
       "       [-3.92030569, -3.92026838, -3.92032586],\n",
       "       [-3.2278503 , -3.22412113, -3.21003836]])"
      ]
     },
     "execution_count": 6,
     "metadata": {},
     "output_type": "execute_result"
    }
   ],
   "source": [
    "draw[\"experimental_mean_log_fluorescence\"][..., 4700]"
   ]
  },
  {
   "cell_type": "code",
   "execution_count": 7,
   "metadata": {},
   "outputs": [
    {
     "data": {
      "text/plain": [
       "array([[ -9.76542823, -10.4934839 , -28.56667268],\n",
       "       [ -9.34701108,  -8.55807913,  -8.87176008],\n",
       "       [ -8.39301032, -14.98504094, -13.62121743],\n",
       "       [ -8.53576443, -10.33340081, -10.16787884],\n",
       "       [ -9.18132497, -10.90398643, -12.86636059],\n",
       "       [ -8.21554976,  -7.91508927,  -7.65035803],\n",
       "       [-11.7689766 ,  -9.37115037, -13.03104329],\n",
       "       [ -9.03345008,  -8.16273162, -10.87772056],\n",
       "       [-11.11943354,  -8.48953501,  -9.3599738 ],\n",
       "       [ -9.1557455 ,  -9.43082841, -10.06710515]])"
      ]
     },
     "execution_count": 7,
     "metadata": {},
     "output_type": "execute_result"
    }
   ],
   "source": [
    "draw[\"log_theta_t0\"][..., 4700]"
   ]
  },
  {
   "cell_type": "code",
   "execution_count": 8,
   "metadata": {},
   "outputs": [
    {
     "data": {
      "text/plain": [
       "(np.int64(2), np.int64(2), np.int64(7105))"
      ]
     },
     "execution_count": 8,
     "metadata": {},
     "output_type": "execute_result"
    }
   ],
   "source": [
    "import numpy as np\n",
    "np.unravel_index(draw[\"log_theta_low\"].argmin(), draw[\"log_theta_low\"].shape)"
   ]
  },
  {
   "cell_type": "code",
   "execution_count": 9,
   "metadata": {},
   "outputs": [
    {
     "data": {
      "text/plain": [
       "array([4.84052918, 2.62746602, 5.25419245, 6.12281908, 4.82369917,\n",
       "       5.08489965, 3.89455311, 2.8759511 , 5.99128393, 4.09685327])"
      ]
     },
     "execution_count": 9,
     "metadata": {},
     "output_type": "execute_result"
    }
   ],
   "source": [
    "draw[\"codon_noise\"][..., 4700]"
   ]
  },
  {
   "cell_type": "code",
   "execution_count": 10,
   "metadata": {},
   "outputs": [
    {
     "data": {
      "text/plain": [
       "np.float64(-83.35335575668682)"
      ]
     },
     "execution_count": 10,
     "metadata": {},
     "output_type": "execute_result"
    }
   ],
   "source": [
    "draw[\"log_theta_low\"].min()"
   ]
  },
  {
   "cell_type": "code",
   "execution_count": 11,
   "metadata": {},
   "outputs": [
    {
     "data": {
      "text/plain": [
       "np.float64(-83.33413754453798)"
      ]
     },
     "execution_count": 11,
     "metadata": {},
     "output_type": "execute_result"
    }
   ],
   "source": [
    "draw[\"log_theta_high\"].min()"
   ]
  },
  {
   "cell_type": "code",
   "execution_count": 12,
   "metadata": {},
   "outputs": [
    {
     "data": {
      "text/plain": [
       "np.float64(0.10025884372280375)"
      ]
     },
     "execution_count": 12,
     "metadata": {},
     "output_type": "execute_result"
    }
   ],
   "source": [
    "np.exp(-2.3)"
   ]
  },
  {
   "cell_type": "code",
   "execution_count": 13,
   "metadata": {},
   "outputs": [
    {
     "data": {
      "text/plain": [
       "(2, 10760)"
      ]
     },
     "execution_count": 13,
     "metadata": {},
     "output_type": "execute_result"
    }
   ],
   "source": [
    "model.ic2.shape"
   ]
  },
  {
   "cell_type": "code",
   "execution_count": null,
   "metadata": {},
   "outputs": [
    {
     "name": "stderr",
     "output_type": "stream",
     "text": [
      "16:27:16 - cmdstanpy - INFO - CmdStan start processing\n"
     ]
    },
    {
     "data": {
      "application/vnd.jupyter.widget-view+json": {
       "model_id": "65c63e7c559e4dc59a344d43f635c7ca",
       "version_major": 2,
       "version_minor": 0
      },
      "text/plain": [
       "chain 1 |          | 00:00 Status"
      ]
     },
     "metadata": {},
     "output_type": "display_data"
    },
    {
     "data": {
      "application/vnd.jupyter.widget-view+json": {
       "model_id": "1018bec475ac41dd9c45554086d06709",
       "version_major": 2,
       "version_minor": 0
      },
      "text/plain": [
       "chain 2 |          | 00:00 Status"
      ]
     },
     "metadata": {},
     "output_type": "display_data"
    },
    {
     "data": {
      "application/vnd.jupyter.widget-view+json": {
       "model_id": "fb1c26e197dd4436848b88aac1034525",
       "version_major": 2,
       "version_minor": 0
      },
      "text/plain": [
       "chain 3 |          | 00:00 Status"
      ]
     },
     "metadata": {},
     "output_type": "display_data"
    },
    {
     "data": {
      "application/vnd.jupyter.widget-view+json": {
       "model_id": "2a8d6e5a1db54d00822e8f2ebd89de56",
       "version_major": 2,
       "version_minor": 0
      },
      "text/plain": [
       "chain 4 |          | 00:00 Status"
      ]
     },
     "metadata": {},
     "output_type": "display_data"
    },
    {
     "name": "stderr",
     "output_type": "stream",
     "text": [
      "16:27:16 - cmdstanpy - ERROR - CmdStan error: error during processing Operation not permitted\n"
     ]
    },
    {
     "name": "stdout",
     "output_type": "stream",
     "text": [
      "                                                                                                                                                                                                                                                                                                                                "
     ]
    },
    {
     "name": "stderr",
     "output_type": "stream",
     "text": [
      "16:27:16 - cmdstanpy - INFO - CmdStan done processing.\n"
     ]
    },
    {
     "name": "stdout",
     "output_type": "stream",
     "text": [
      "\n"
     ]
    },
    {
     "ename": "RuntimeError",
     "evalue": "Error during sampling:\nException: model_model_namespace::log_prob: log_theta_low[1][1] is -nan, but must be less than or equal to 0.000000 (in 'model.stan', line 190, column 2 to column 50)\n\tException: model_model_namespace::log_prob: log_theta_low[1][1] is -nan, but must be less than or equal to 0.000000 (in 'model.stan', line 190, column 2 to column 50)\n\tException: model_model_namespace::log_prob: log_theta_high[1][1] is -nan, but must be less than or equal to 0.000000 (in 'model.stan', line 191, column 2 to column 51)\n\tException: model_model_namespace::log_prob: log_theta_low[1][1] is -nan, but must be less than or equal to 0.000000 (in 'model.stan', line 190, column 2 to column 50)\n\tException: model_model_namespace::log_prob: log_theta_low[1][1] is -nan, but must be less than or equal to 0.000000 (in 'model.stan', line 190, column 2 to column 50)\n\tException: model_model_namespace::log_prob: log_theta_high[1][1] is -nan, but must be less than or equal to 0.000000 (in 'model.stan', line 191, column 2 to column 51)\n\tException: model_model_namespace::log_prob: log_theta_low[1][1] is -nan, but must be less than or equal to 0.000000 (in 'model.stan', line 190, column 2 to column 50)\n\tException: model_model_namespace::log_prob: log_theta_high[1][1] is -nan, but must be less than or equal to 0.000000 (in 'model.stan', line 191, column 2 to column 51)\n\tException: model_model_namespace::log_prob: log_theta_low[1][1] is -nan, but must be less than or equal to 0.000000 (in 'model.stan', line 190, column 2 to column 50)\n\tException: model_model_namespace::log_prob: log_theta_high[1][1] is -nan, but must be less than or equal to 0.000000 (in 'model.stan', line 191, column 2 to column 51)\n\tException: model_model_namespace::log_prob: log_theta_low[1][1] is -nan, but must be less than or equal to 0.000000 (in 'model.stan', line 190, column 2 to column 50)\n\tException: model_model_namespace::log_prob: log_theta_high[1][1] is -nan, but must be less than or equal to 0.000000 (in 'model.stan', line 191, column 2 to column 51)\n\tException: model_model_namespace::log_prob: log_theta_high[1][1] is -nan, but must be less than or equal to 0.000000 (in 'model.stan', line 191, column 2 to column 51)\n\tException: model_model_namespace::log_prob: log_theta_low[1][1] is -nan, but must be less than or equal to 0.000000 (in 'model.stan', line 190, column 2 to column 50)\n\tException: model_model_namespace::log_prob: log_theta_low[1][1] is -nan, but must be less than or equal to 0.000000 (in 'model.stan', line 190, column 2 to column 50)\n\tException: model_model_namespace::log_prob: log_theta_high[1][1] is -nan, but must be less than or equal to 0.000000 (in 'model.stan', line 191, column 2 to column 51)\n\tException: model_model_namespace::log_prob: log_theta_high[1][1] is -nan, but must be less than or equal to 0.000000 (in 'model.stan', line 191, column 2 to column 51)\n\tException: model_model_namespace::log_prob: log_theta_low[1][1] is -nan, but must be less than or equal to 0.000000 (in 'model.stan', line 190, column 2 to column 50)\n\tException: model_model_namespace::log_prob: log_theta_high[1][1] is -nan, but must be less than or equal to 0.000000 (in 'model.stan', line 191, column 2 to column 51)\n\tException: model_model_namespace::log_prob: log_theta_low[1][1] is -nan, but must be less than or equal to 0.000000 (in 'model.stan', line 190, column 2 to column 50)\n\tException: model_model_namespace::log_prob: log_theta_low[1][1] is -nan, but must be less than or equal to 0.000000 (in 'model.stan', line 190, column 2 to column 50)\n\tException: model_model_namespace::log_prob: log_theta_high[1][1] is -nan, but must be less than or equal to 0.000000 (in 'model.stan', line 191, column 2 to column 51)\n\tException: model_model_namespace::log_prob: log_theta_low[1][1] is -nan, but must be less than or equal to 0.000000 (in 'model.stan', line 190, column 2 to column 50)\n\tException: model_model_namespace::log_prob: log_theta_low[2][1] is -nan, but must be less than or equal to 0.000000 (in 'model.stan', line 190, column 2 to column 50)\n\tException: model_model_namespace::log_prob: log_theta_low[2][1] is -nan, but must be less than or equal to 0.000000 (in 'model.stan', line 190, column 2 to column 50)\n\tException: model_model_namespace::log_prob: log_theta_high[1][1] is -nan, but must be less than or equal to 0.000000 (in 'model.stan', line 191, column 2 to column 51)\n\tException: model_model_namespace::log_prob: log_theta_low[1][1] is -nan, but must be less than or equal to 0.000000 (in 'model.stan', line 190, column 2 to column 50)\n\tException: model_model_namespace::log_prob: log_theta_low[1][1] is -nan, but must be less than or equal to 0.000000 (in 'model.stan', line 190, column 2 to column 50)\n\tException: model_model_namespace::log_prob: log_theta_high[1][1] is -nan, but must be less than or equal to 0.000000 (in 'model.stan', line 191, column 2 to column 51)\n\tException: model_model_namespace::log_prob: log_theta_low[1][1] is -nan, but must be less than or equal to 0.000000 (in 'model.stan', line 190, column 2 to column 50)\n\tException: model_model_namespace::log_prob: log_theta_low[1][1] is -nan, but must be less than or equal to 0.000000 (in 'model.stan', line 190, column 2 to column 50)\n\tException: model_model_namespace::log_prob: log_theta_high[1][1] is -nan, but must be less than or equal to 0.000000 (in 'model.stan', line 191, column 2 to column 51)\n\tException: model_model_namespace::log_prob: log_theta_low[1][1] is -nan, but must be less than or equal to 0.000000 (in 'model.stan', line 190, column 2 to column 50)\n\tException: model_model_namespace::log_prob: log_theta_high[1][1] is -nan, but must be less than or equal to 0.000000 (in 'model.stan', line 191, column 2 to column 51)\n\tException: model_model_namespace::log_prob: log_theta_high[1][1] is -nan, but must be less than or equal to 0.000000 (in 'model.stan', line 191, column 2 to column 51)\n\tException: model_model_namespace::log_prob: log_theta_low[2][1] is -nan, but must be less than or equal to 0.000000 (in 'model.stan', line 190, column 2 to column 50)\n\tException: model_model_namespace::log_prob: log_theta_high[1][1] is -nan, but must be less than or equal to 0.000000 (in 'model.stan', line 191, column 2 to column 51)\n\tException: model_model_namespace::log_prob: log_theta_high[1][1] is -nan, but must be less than or equal to 0.000000 (in 'model.stan', line 191, column 2 to column 51)\n\tException: model_model_namespace::log_prob: log_theta_low[1][1] is -nan, but must be less than or equal to 0.000000 (in 'model.stan', line 190, column 2 to column 50)\n\tException: model_model_namespace::log_prob: log_theta_high[1][1] is -nan, but must be less than or equal to 0.000000 (in 'model.stan', line 191, column 2 to column 51)\n\tException: model_model_namespace::log_prob: log_theta_low[1][1] is -nan, but must be less than or equal to 0.000000 (in 'model.stan', line 190, column 2 to column 50)\n\tException: model_model_namespace::log_prob: log_theta_high[1][1] is -nan, but must be less than or equal to 0.000000 (in 'model.stan', line 191, column 2 to column 51)\n\tException: model_model_namespace::log_prob: log_theta_high[1][1] is -nan, but must be less than or equal to 0.000000 (in 'model.stan', line 191, column 2 to column 51)\n\tException: model_model_namespace::log_prob: log_theta_low[1][1] is -nan, but must be less than or equal to 0.000000 (in 'model.stan', line 190, column 2 to column 50)\n\tException: model_model_namespace::log_prob: log_theta_low[1][1] is -nan, but must be less than or equal to 0.000000 (in 'model.stan', line 190, column 2 to column 50)\n\tException: model_model_namespace::log_prob: log_theta_high[1][1] is -nan, but must be less than or equal to 0.000000 (in 'model.stan', line 191, column 2 to column 51)\n\tException: model_model_namespace::log_prob: log_theta_low[1][1] is -nan, but must be less than or equal to 0.000000 (in 'model.stan', line 190, column 2 to column 50)\n\tException: model_model_namespace::log_prob: log_theta_high[1][1] is -nan, but must be less than or equal to 0.000000 (in 'model.stan', line 191, column 2 to column 51)\n\tException: model_model_namespace::log_prob: log_theta_low[1][1] is -nan, but must be less than or equal to 0.000000 (in 'model.stan', line 190, column 2 to column 50)\n\tException: model_model_namespace::log_prob: log_theta_low[1][1] is -nan, but must be less than or equal to 0.000000 (in 'model.stan', line 190, column 2 to column 50)\n\tException: model_model_namespace::log_prob: log_theta_high[1][1] is -nan, but must be less than or equal to 0.000000 (in 'model.stan', line 191, column 2 to column 51)\n\tException: model_model_namespace::log_prob: log_theta_low[1][1] is -nan, but must be less than or equal to 0.000000 (in 'model.stan', line 190, column 2 to column 50)\n\tException: model_model_namespace::log_prob: log_theta_low[1][1] is -nan, but must be less than or equal to 0.000000 (in 'model.stan', line 190, column 2 to column 50)\n\tException: model_model_namespace::log_prob: log_theta_high[1][1] is -nan, but must be less than or equal to 0.000000 (in 'model.stan', line 191, column 2 to column 51)\n\tException: model_model_namespace::log_prob: log_theta_low[1][1] is -nan, but must be less than or equal to 0.000000 (in 'model.stan', line 190, column 2 to column 50)\n\tException: model_model_namespace::log_prob: log_theta_high[1][1] is -nan, but must be less than or equal to 0.000000 (in 'model.stan', line 191, column 2 to column 51)\n\tException: model_model_namespace::log_prob: log_theta_low[1][1] is -nan, but must be less than or equal to 0.000000 (in 'model.stan', line 190, column 2 to column 50)\n\tException: model_model_namespace::log_prob: log_theta_high[1][1] is -nan, but must be less than or equal to 0.000000 (in 'model.stan', line 191, column 2 to column 51)\n\tException: model_model_namespace::log_prob: log_theta_low[1][1] is -nan, but must be less than or equal to 0.000000 (in 'model.stan', line 190, column 2 to column 50)\n\tException: model_model_namespace::log_prob: log_theta_low[1][1] is -nan, but must be less than or equal to 0.000000 (in 'model.stan', line 190, column 2 to column 50)\n\tException: model_model_namespace::log_prob: log_theta_low[1][1] is -nan, but must be less than or equal to 0.000000 (in 'model.stan', line 190, column 2 to column 50)\n\tException: model_model_namespace::log_prob: log_theta_low[1][1] is -nan, but must be less than or equal to 0.000000 (in 'model.stan', line 190, column 2 to column 50)\n\tException: model_model_namespace::log_prob: log_theta_high[1][1] is -nan, but must be less than or equal to 0.000000 (in 'model.stan', line 191, column 2 to column 51)\n\tException: model_model_namespace::log_prob: log_theta_low[1][1] is -nan, but must be less than or equal to 0.000000 (in 'model.stan', line 190, column 2 to column 50)\n\tException: model_model_namespace::log_prob: log_theta_low[2][1] is -nan, but must be less than or equal to 0.000000 (in 'model.stan', line 190, column 2 to column 50)\n\tException: model_model_namespace::log_prob: log_theta_high[1][1] is -nan, but must be less than or equal to 0.000000 (in 'model.stan', line 191, column 2 to column 51)\n\tException: model_model_namespace::log_prob: log_theta_low[1][1] is -nan, but must be less than or equal to 0.000000 (in 'model.stan', line 190, column 2 to column 50)\n\tException: model_model_namespace::log_prob: log_theta_high[1][1] is -nan, but must be less than or equal to 0.000000 (in 'model.stan', line 191, column 2 to column 51)\n\tException: model_model_namespace::log_prob: log_theta_high[1][1] is -nan, but must be less than or equal to 0.000000 (in 'model.stan', line 191, column 2 to column 51)\n\tException: model_model_namespace::log_prob: log_theta_high[1][1] is -nan, but must be less than or equal to 0.000000 (in 'model.stan', line 191, column 2 to column 51)\n\tException: model_model_namespace::log_prob: log_theta_high[1][1] is -nan, but must be less than or equal to 0.000000 (in 'model.stan', line 191, column 2 to column 51)\n\tException: model_model_namespace::log_prob: log_theta_high[1][1] is -nan, but must be less than or equal to 0.000000 (in 'model.stan', line 191, column 2 to column 51)\n\tException: model_model_namespace::log_prob: log_theta_high[1][1] is -nan, but must be less than or equal to 0.000000 (in 'model.stan', line 191, column 2 to column 51)\n\tException: model_model_namespace::log_prob: log_theta_low[1][1] is -nan, but must be less than or equal to 0.000000 (in 'model.stan', line 190, column 2 to column 50)\n\tException: model_model_namespace::log_prob: log_theta_low[1][1] is -nan, but must be less than or equal to 0.000000 (in 'model.stan', line 190, column 2 to column 50)\n\tException: model_model_namespace::log_prob: log_theta_high[1][1] is -nan, but must be less than or equal to 0.000000 (in 'model.stan', line 191, column 2 to column 51)\n\tException: model_model_namespace::log_prob: log_theta_high[1][1] is -nan, but must be less than or equal to 0.000000 (in 'model.stan', line 191, column 2 to column 51)\n\tException: model_model_namespace::log_prob: log_theta_high[1][1] is -nan, but must be less than or equal to 0.000000 (in 'model.stan', line 191, column 2 to column 51)\n\tException: model_model_namespace::log_prob: log_theta_low[1][1] is -nan, but must be less than or equal to 0.000000 (in 'model.stan', line 190, column 2 to column 50)\n\tException: model_model_namespace::log_prob: log_theta_high[1][1] is -nan, but must be less than or equal to 0.000000 (in 'model.stan', line 191, column 2 to column 51)\n\tException: model_model_namespace::log_prob: log_theta_high[1][1] is -nan, but must be less than or equal to 0.000000 (in 'model.stan', line 191, column 2 to column 51)\n\tException: model_model_namespace::log_prob: log_theta_low[1][1] is -nan, but must be less than or equal to 0.000000 (in 'model.stan', line 190, column 2 to column 50)\n\tException: model_model_namespace::log_prob: log_theta_high[1][1] is -nan, but must be less than or equal to 0.000000 (in 'model.stan', line 191, column 2 to column 51)\n\tException: model_model_namespace::log_prob: log_theta_low[1][1] is -nan, but must be less than or equal to 0.000000 (in 'model.stan', line 190, column 2 to column 50)\n\tException: model_model_namespace::log_prob: log_theta_low[1][1] is -nan, but must be less than or equal to 0.000000 (in 'model.stan', line 190, column 2 to column 50)\n\tException: model_model_namespace::log_prob: log_theta_low[2][1] is -nan, but must be less than or equal to 0.000000 (in 'model.stan', line 190, column 2 to column 50)\n\tException: model_model_namespace::log_prob: log_theta_low[1][1] is -nan, but must be less than or equal to 0.000000 (in 'model.stan', line 190, column 2 to column 50)\n\tException: model_model_namespace::log_prob: log_theta_low[1][1] is -nan, but must be less than or equal to 0.000000 (in 'model.stan', line 190, column 2 to column 50)\n\tException: model_model_namespace::log_prob: log_theta_low[1][1] is -nan, but must be less than or equal to 0.000000 (in 'model.stan', line 190, column 2 to column 50)\n\tException: model_model_namespace::log_prob: log_theta_low[1][1] is -nan, but must be less than or equal to 0.000000 (in 'model.stan', line 190, column 2 to column 50)\n\tException: model_model_namespace::log_prob: log_theta_low[1][1] is -nan, but must be less than or equal to 0.000000 (in 'model.stan', line 190, column 2 to column 50)\n\tException: model_model_namespace::log_prob: log_theta_low[1][1] is -nan, but must be less than or equal to 0.000000 (in 'model.stan', line 190, column 2 to column 50)\n\tException: model_model_namespace::log_prob: log_theta_high[1][1] is -nan, but must be less than or equal to 0.000000 (in 'model.stan', line 191, column 2 to column 51)\n\tException: model_model_namespace::log_prob: log_theta_high[1][1] is -nan, but must be less than or equal to 0.000000 (in 'model.stan', line 191, column 2 to column 51)\n\tException: model_model_namespace::log_prob: log_theta_high[1][1] is -nan, but must be less than or equal to 0.000000 (in 'model.stan', line 191, column 2 to column 51)\n\tException: model_model_namespace::log_prob: log_theta_high[1][1] is -nan, but must be less than or equal to 0.000000 (in 'model.stan', line 191, column 2 to column 51)\n\tException: model_model_namespace::log_prob: log_theta_low[1][1] is -nan, but must be less than or equal to 0.000000 (in 'model.stan', line 190, column 2 to column 50)\n\tException: model_model_namespace::log_prob: log_theta_low[1][1] is -nan, but must be less than or equal to 0.000000 (in 'model.stan', line 190, column 2 to column 50)\n\tException: model_model_namespace::log_prob: log_theta_low[1][1] is -nan, but must be less than or equal to 0.000000 (in 'model.stan', line 190, column 2 to column 50)\n\tException: model_model_namespace::log_prob: log_theta_low[1][1] is -nan, but must be less than or equal to 0.000000 (in 'model.stan', line 190, column 2 to column 50)\nCommand and output files:\nRunSet: chains=4, chain_ids=[1, 2, 3, 4], num_processes=1\n cmd (chain 1):\n\t['/home/bwittmann/GitRepos/SciStanPy/tmp/model', 'id=1', 'random', 'seed=3000894797', 'data', 'file=tmp/data.json', 'output', 'file=/home/bwittmann/GitRepos/SciStanPy/tmp/model-20250924162716.csv', 'method=sample', 'algorithm=hmc', 'adapt', 'engaged=1', 'num_chains=4']\n retcodes=[1]\n per-chain output files (showing chain 1 only):\n csv_file:\n\t/home/bwittmann/GitRepos/SciStanPy/tmp/model-20250924162716_1.csv\n console_msgs (if any):\n\t/home/bwittmann/GitRepos/SciStanPy/tmp/model-20250924162716-stdout.txt\nConsider re-running with show_console=True if the above output is unclear!",
     "output_type": "error",
     "traceback": [
      "\u001b[31m---------------------------------------------------------------------------\u001b[39m",
      "\u001b[31mRuntimeError\u001b[39m                              Traceback (most recent call last)",
      "\u001b[36mCell\u001b[39m\u001b[36m \u001b[39m\u001b[32mIn[15]\u001b[39m\u001b[32m, line 1\u001b[39m\n\u001b[32m----> \u001b[39m\u001b[32m1\u001b[39m \u001b[43mmodel\u001b[49m\u001b[43m.\u001b[49m\u001b[43mmcmc\u001b[49m\u001b[43m(\u001b[49m\u001b[43moutput_dir\u001b[49m\u001b[43m \u001b[49m\u001b[43m=\u001b[49m\u001b[43m \u001b[49m\u001b[33;43m\"\u001b[39;49m\u001b[33;43mtmp\u001b[39;49m\u001b[33;43m\"\u001b[39;49m\u001b[43m)\u001b[49m\n",
      "\u001b[36mFile \u001b[39m\u001b[32m~/GitRepos/SciStanPy/scistanpy/model/model.py:980\u001b[39m, in \u001b[36mModel.mcmc\u001b[39m\u001b[34m(self, output_dir, force_compile, stanc_options, cpp_options, user_header, model_name, inits, data, delay_run, **sample_kwargs)\u001b[39m\n\u001b[32m    977\u001b[39m     \u001b[38;5;28;01mreturn\u001b[39;00m\n\u001b[32m    979\u001b[39m \u001b[38;5;66;03m# Sample from the model\u001b[39;00m\n\u001b[32m--> \u001b[39m\u001b[32m980\u001b[39m \u001b[38;5;28;01mreturn\u001b[39;00m \u001b[43mmodel\u001b[49m\u001b[43m.\u001b[49m\u001b[43msample\u001b[49m\u001b[43m(\u001b[49m\u001b[43minits\u001b[49m\u001b[43m=\u001b[49m\u001b[43minits\u001b[49m\u001b[43m,\u001b[49m\u001b[43m \u001b[49m\u001b[43mdata\u001b[49m\u001b[43m=\u001b[49m\u001b[43mdata\u001b[49m\u001b[43m,\u001b[49m\u001b[43m \u001b[49m\u001b[43m*\u001b[49m\u001b[43m*\u001b[49m\u001b[43msample_kwargs\u001b[49m\u001b[43m)\u001b[49m\n",
      "\u001b[36mFile \u001b[39m\u001b[32m~/GitRepos/SciStanPy/scistanpy/model/stan/stan_model.py:1798\u001b[39m, in \u001b[36mStanModel.sample\u001b[39m\u001b[34m(self, precision, mib_per_chunk, use_dask, *args, **kwargs)\u001b[39m\n\u001b[32m   1793\u001b[39m     kwargs[\u001b[33m\"\u001b[39m\u001b[33minits\u001b[39m\u001b[33m\"\u001b[39m] = \u001b[38;5;28mself\u001b[39m._get_sample_init(  \u001b[38;5;66;03m# pylint: disable=protected-access\u001b[39;00m\n\u001b[32m   1794\u001b[39m         chains=kwargs[\u001b[33m\"\u001b[39m\u001b[33mchains\u001b[39m\u001b[33m\"\u001b[39m], seed=kwargs.get(\u001b[33m\"\u001b[39m\u001b[33mseed\u001b[39m\u001b[33m\"\u001b[39m)\n\u001b[32m   1795\u001b[39m     )\n\u001b[32m   1797\u001b[39m \u001b[38;5;66;03m# Run the sample function\u001b[39;00m\n\u001b[32m-> \u001b[39m\u001b[32m1798\u001b[39m fit = \u001b[43mupdated_parent_sample\u001b[49m\u001b[43m(\u001b[49m\u001b[38;5;28;43mself\u001b[39;49m\u001b[43m,\u001b[49m\u001b[43m \u001b[49m\u001b[43m*\u001b[49m\u001b[43m*\u001b[49m\u001b[43mkwargs\u001b[49m\u001b[43m)\u001b[49m\n\u001b[32m   1800\u001b[39m \u001b[38;5;66;03m# Build the results object\u001b[39;00m\n\u001b[32m   1801\u001b[39m \u001b[38;5;28;01mreturn\u001b[39;00m results.SampleResults(\n\u001b[32m   1802\u001b[39m     model=\u001b[38;5;28mself\u001b[39m.model,\n\u001b[32m   1803\u001b[39m     fit=fit,\n\u001b[32m   (...)\u001b[39m\u001b[32m   1806\u001b[39m     use_dask=use_dask,\n\u001b[32m   1807\u001b[39m )\n",
      "\u001b[36mFile \u001b[39m\u001b[32m~/GitRepos/SciStanPy/scistanpy/model/stan/stan_model.py:1477\u001b[39m, in \u001b[36m_update_cmdstanpy_func.<locals>.inner\u001b[39m\u001b[34m(*args, **kwargs)\u001b[39m\n\u001b[32m   1474\u001b[39m kwargs[\u001b[33m\"\u001b[39m\u001b[33mdata\u001b[39m\u001b[33m\"\u001b[39m] = json_path\n\u001b[32m   1476\u001b[39m \u001b[38;5;66;03m# Run the wrapped function\u001b[39;00m\n\u001b[32m-> \u001b[39m\u001b[32m1477\u001b[39m \u001b[38;5;28;01mreturn\u001b[39;00m \u001b[43mfunc\u001b[49m\u001b[43m(\u001b[49m\u001b[43mstan_model\u001b[49m\u001b[43m,\u001b[49m\u001b[43m \u001b[49m\u001b[43m*\u001b[49m\u001b[43m*\u001b[49m\u001b[43mkwargs\u001b[49m\u001b[43m)\u001b[49m\n",
      "\u001b[36mFile \u001b[39m\u001b[32m~/micromamba/envs/scistanpy/lib/python3.12/site-packages/cmdstanpy/model.py:1136\u001b[39m, in \u001b[36mCmdStanModel.sample\u001b[39m\u001b[34m(self, data, chains, parallel_chains, threads_per_chain, seed, chain_ids, inits, iter_warmup, iter_sampling, save_warmup, thin, max_treedepth, metric, step_size, adapt_engaged, adapt_delta, adapt_init_phase, adapt_metric_window, adapt_step_size, fixed_param, output_dir, sig_figs, save_latent_dynamics, save_profile, show_progress, show_console, refresh, time_fmt, timeout, force_one_process_per_chain)\u001b[39m\n\u001b[32m   1131\u001b[39m     \u001b[38;5;28;01mif\u001b[39;00m \u001b[38;5;129;01mnot\u001b[39;00m show_console:\n\u001b[32m   1132\u001b[39m         msg += (\n\u001b[32m   1133\u001b[39m             \u001b[33m'\u001b[39m\u001b[38;5;130;01m\\n\u001b[39;00m\u001b[33mConsider re-running with show_console=True if the\u001b[39m\u001b[33m'\u001b[39m\n\u001b[32m   1134\u001b[39m             \u001b[33m'\u001b[39m\u001b[33m above output is unclear!\u001b[39m\u001b[33m'\u001b[39m\n\u001b[32m   1135\u001b[39m         )\n\u001b[32m-> \u001b[39m\u001b[32m1136\u001b[39m     \u001b[38;5;28;01mraise\u001b[39;00m \u001b[38;5;167;01mRuntimeError\u001b[39;00m(msg)\n\u001b[32m   1137\u001b[39m \u001b[38;5;28;01mif\u001b[39;00m errors:\n\u001b[32m   1138\u001b[39m     msg = \u001b[33mf\u001b[39m\u001b[33m'\u001b[39m\u001b[33mNon-fatal error during sampling:\u001b[39m\u001b[38;5;130;01m\\n\u001b[39;00m\u001b[38;5;132;01m{\u001b[39;00merrors\u001b[38;5;132;01m}\u001b[39;00m\u001b[33m'\u001b[39m\n",
      "\u001b[31mRuntimeError\u001b[39m: Error during sampling:\nException: model_model_namespace::log_prob: log_theta_low[1][1] is -nan, but must be less than or equal to 0.000000 (in 'model.stan', line 190, column 2 to column 50)\n\tException: model_model_namespace::log_prob: log_theta_low[1][1] is -nan, but must be less than or equal to 0.000000 (in 'model.stan', line 190, column 2 to column 50)\n\tException: model_model_namespace::log_prob: log_theta_high[1][1] is -nan, but must be less than or equal to 0.000000 (in 'model.stan', line 191, column 2 to column 51)\n\tException: model_model_namespace::log_prob: log_theta_low[1][1] is -nan, but must be less than or equal to 0.000000 (in 'model.stan', line 190, column 2 to column 50)\n\tException: model_model_namespace::log_prob: log_theta_low[1][1] is -nan, but must be less than or equal to 0.000000 (in 'model.stan', line 190, column 2 to column 50)\n\tException: model_model_namespace::log_prob: log_theta_high[1][1] is -nan, but must be less than or equal to 0.000000 (in 'model.stan', line 191, column 2 to column 51)\n\tException: model_model_namespace::log_prob: log_theta_low[1][1] is -nan, but must be less than or equal to 0.000000 (in 'model.stan', line 190, column 2 to column 50)\n\tException: model_model_namespace::log_prob: log_theta_high[1][1] is -nan, but must be less than or equal to 0.000000 (in 'model.stan', line 191, column 2 to column 51)\n\tException: model_model_namespace::log_prob: log_theta_low[1][1] is -nan, but must be less than or equal to 0.000000 (in 'model.stan', line 190, column 2 to column 50)\n\tException: model_model_namespace::log_prob: log_theta_high[1][1] is -nan, but must be less than or equal to 0.000000 (in 'model.stan', line 191, column 2 to column 51)\n\tException: model_model_namespace::log_prob: log_theta_low[1][1] is -nan, but must be less than or equal to 0.000000 (in 'model.stan', line 190, column 2 to column 50)\n\tException: model_model_namespace::log_prob: log_theta_high[1][1] is -nan, but must be less than or equal to 0.000000 (in 'model.stan', line 191, column 2 to column 51)\n\tException: model_model_namespace::log_prob: log_theta_high[1][1] is -nan, but must be less than or equal to 0.000000 (in 'model.stan', line 191, column 2 to column 51)\n\tException: model_model_namespace::log_prob: log_theta_low[1][1] is -nan, but must be less than or equal to 0.000000 (in 'model.stan', line 190, column 2 to column 50)\n\tException: model_model_namespace::log_prob: log_theta_low[1][1] is -nan, but must be less than or equal to 0.000000 (in 'model.stan', line 190, column 2 to column 50)\n\tException: model_model_namespace::log_prob: log_theta_high[1][1] is -nan, but must be less than or equal to 0.000000 (in 'model.stan', line 191, column 2 to column 51)\n\tException: model_model_namespace::log_prob: log_theta_high[1][1] is -nan, but must be less than or equal to 0.000000 (in 'model.stan', line 191, column 2 to column 51)\n\tException: model_model_namespace::log_prob: log_theta_low[1][1] is -nan, but must be less than or equal to 0.000000 (in 'model.stan', line 190, column 2 to column 50)\n\tException: model_model_namespace::log_prob: log_theta_high[1][1] is -nan, but must be less than or equal to 0.000000 (in 'model.stan', line 191, column 2 to column 51)\n\tException: model_model_namespace::log_prob: log_theta_low[1][1] is -nan, but must be less than or equal to 0.000000 (in 'model.stan', line 190, column 2 to column 50)\n\tException: model_model_namespace::log_prob: log_theta_low[1][1] is -nan, but must be less than or equal to 0.000000 (in 'model.stan', line 190, column 2 to column 50)\n\tException: model_model_namespace::log_prob: log_theta_high[1][1] is -nan, but must be less than or equal to 0.000000 (in 'model.stan', line 191, column 2 to column 51)\n\tException: model_model_namespace::log_prob: log_theta_low[1][1] is -nan, but must be less than or equal to 0.000000 (in 'model.stan', line 190, column 2 to column 50)\n\tException: model_model_namespace::log_prob: log_theta_low[2][1] is -nan, but must be less than or equal to 0.000000 (in 'model.stan', line 190, column 2 to column 50)\n\tException: model_model_namespace::log_prob: log_theta_low[2][1] is -nan, but must be less than or equal to 0.000000 (in 'model.stan', line 190, column 2 to column 50)\n\tException: model_model_namespace::log_prob: log_theta_high[1][1] is -nan, but must be less than or equal to 0.000000 (in 'model.stan', line 191, column 2 to column 51)\n\tException: model_model_namespace::log_prob: log_theta_low[1][1] is -nan, but must be less than or equal to 0.000000 (in 'model.stan', line 190, column 2 to column 50)\n\tException: model_model_namespace::log_prob: log_theta_low[1][1] is -nan, but must be less than or equal to 0.000000 (in 'model.stan', line 190, column 2 to column 50)\n\tException: model_model_namespace::log_prob: log_theta_high[1][1] is -nan, but must be less than or equal to 0.000000 (in 'model.stan', line 191, column 2 to column 51)\n\tException: model_model_namespace::log_prob: log_theta_low[1][1] is -nan, but must be less than or equal to 0.000000 (in 'model.stan', line 190, column 2 to column 50)\n\tException: model_model_namespace::log_prob: log_theta_low[1][1] is -nan, but must be less than or equal to 0.000000 (in 'model.stan', line 190, column 2 to column 50)\n\tException: model_model_namespace::log_prob: log_theta_high[1][1] is -nan, but must be less than or equal to 0.000000 (in 'model.stan', line 191, column 2 to column 51)\n\tException: model_model_namespace::log_prob: log_theta_low[1][1] is -nan, but must be less than or equal to 0.000000 (in 'model.stan', line 190, column 2 to column 50)\n\tException: model_model_namespace::log_prob: log_theta_high[1][1] is -nan, but must be less than or equal to 0.000000 (in 'model.stan', line 191, column 2 to column 51)\n\tException: model_model_namespace::log_prob: log_theta_high[1][1] is -nan, but must be less than or equal to 0.000000 (in 'model.stan', line 191, column 2 to column 51)\n\tException: model_model_namespace::log_prob: log_theta_low[2][1] is -nan, but must be less than or equal to 0.000000 (in 'model.stan', line 190, column 2 to column 50)\n\tException: model_model_namespace::log_prob: log_theta_high[1][1] is -nan, but must be less than or equal to 0.000000 (in 'model.stan', line 191, column 2 to column 51)\n\tException: model_model_namespace::log_prob: log_theta_high[1][1] is -nan, but must be less than or equal to 0.000000 (in 'model.stan', line 191, column 2 to column 51)\n\tException: model_model_namespace::log_prob: log_theta_low[1][1] is -nan, but must be less than or equal to 0.000000 (in 'model.stan', line 190, column 2 to column 50)\n\tException: model_model_namespace::log_prob: log_theta_high[1][1] is -nan, but must be less than or equal to 0.000000 (in 'model.stan', line 191, column 2 to column 51)\n\tException: model_model_namespace::log_prob: log_theta_low[1][1] is -nan, but must be less than or equal to 0.000000 (in 'model.stan', line 190, column 2 to column 50)\n\tException: model_model_namespace::log_prob: log_theta_high[1][1] is -nan, but must be less than or equal to 0.000000 (in 'model.stan', line 191, column 2 to column 51)\n\tException: model_model_namespace::log_prob: log_theta_high[1][1] is -nan, but must be less than or equal to 0.000000 (in 'model.stan', line 191, column 2 to column 51)\n\tException: model_model_namespace::log_prob: log_theta_low[1][1] is -nan, but must be less than or equal to 0.000000 (in 'model.stan', line 190, column 2 to column 50)\n\tException: model_model_namespace::log_prob: log_theta_low[1][1] is -nan, but must be less than or equal to 0.000000 (in 'model.stan', line 190, column 2 to column 50)\n\tException: model_model_namespace::log_prob: log_theta_high[1][1] is -nan, but must be less than or equal to 0.000000 (in 'model.stan', line 191, column 2 to column 51)\n\tException: model_model_namespace::log_prob: log_theta_low[1][1] is -nan, but must be less than or equal to 0.000000 (in 'model.stan', line 190, column 2 to column 50)\n\tException: model_model_namespace::log_prob: log_theta_high[1][1] is -nan, but must be less than or equal to 0.000000 (in 'model.stan', line 191, column 2 to column 51)\n\tException: model_model_namespace::log_prob: log_theta_low[1][1] is -nan, but must be less than or equal to 0.000000 (in 'model.stan', line 190, column 2 to column 50)\n\tException: model_model_namespace::log_prob: log_theta_low[1][1] is -nan, but must be less than or equal to 0.000000 (in 'model.stan', line 190, column 2 to column 50)\n\tException: model_model_namespace::log_prob: log_theta_high[1][1] is -nan, but must be less than or equal to 0.000000 (in 'model.stan', line 191, column 2 to column 51)\n\tException: model_model_namespace::log_prob: log_theta_low[1][1] is -nan, but must be less than or equal to 0.000000 (in 'model.stan', line 190, column 2 to column 50)\n\tException: model_model_namespace::log_prob: log_theta_low[1][1] is -nan, but must be less than or equal to 0.000000 (in 'model.stan', line 190, column 2 to column 50)\n\tException: model_model_namespace::log_prob: log_theta_high[1][1] is -nan, but must be less than or equal to 0.000000 (in 'model.stan', line 191, column 2 to column 51)\n\tException: model_model_namespace::log_prob: log_theta_low[1][1] is -nan, but must be less than or equal to 0.000000 (in 'model.stan', line 190, column 2 to column 50)\n\tException: model_model_namespace::log_prob: log_theta_high[1][1] is -nan, but must be less than or equal to 0.000000 (in 'model.stan', line 191, column 2 to column 51)\n\tException: model_model_namespace::log_prob: log_theta_low[1][1] is -nan, but must be less than or equal to 0.000000 (in 'model.stan', line 190, column 2 to column 50)\n\tException: model_model_namespace::log_prob: log_theta_high[1][1] is -nan, but must be less than or equal to 0.000000 (in 'model.stan', line 191, column 2 to column 51)\n\tException: model_model_namespace::log_prob: log_theta_low[1][1] is -nan, but must be less than or equal to 0.000000 (in 'model.stan', line 190, column 2 to column 50)\n\tException: model_model_namespace::log_prob: log_theta_low[1][1] is -nan, but must be less than or equal to 0.000000 (in 'model.stan', line 190, column 2 to column 50)\n\tException: model_model_namespace::log_prob: log_theta_low[1][1] is -nan, but must be less than or equal to 0.000000 (in 'model.stan', line 190, column 2 to column 50)\n\tException: model_model_namespace::log_prob: log_theta_low[1][1] is -nan, but must be less than or equal to 0.000000 (in 'model.stan', line 190, column 2 to column 50)\n\tException: model_model_namespace::log_prob: log_theta_high[1][1] is -nan, but must be less than or equal to 0.000000 (in 'model.stan', line 191, column 2 to column 51)\n\tException: model_model_namespace::log_prob: log_theta_low[1][1] is -nan, but must be less than or equal to 0.000000 (in 'model.stan', line 190, column 2 to column 50)\n\tException: model_model_namespace::log_prob: log_theta_low[2][1] is -nan, but must be less than or equal to 0.000000 (in 'model.stan', line 190, column 2 to column 50)\n\tException: model_model_namespace::log_prob: log_theta_high[1][1] is -nan, but must be less than or equal to 0.000000 (in 'model.stan', line 191, column 2 to column 51)\n\tException: model_model_namespace::log_prob: log_theta_low[1][1] is -nan, but must be less than or equal to 0.000000 (in 'model.stan', line 190, column 2 to column 50)\n\tException: model_model_namespace::log_prob: log_theta_high[1][1] is -nan, but must be less than or equal to 0.000000 (in 'model.stan', line 191, column 2 to column 51)\n\tException: model_model_namespace::log_prob: log_theta_high[1][1] is -nan, but must be less than or equal to 0.000000 (in 'model.stan', line 191, column 2 to column 51)\n\tException: model_model_namespace::log_prob: log_theta_high[1][1] is -nan, but must be less than or equal to 0.000000 (in 'model.stan', line 191, column 2 to column 51)\n\tException: model_model_namespace::log_prob: log_theta_high[1][1] is -nan, but must be less than or equal to 0.000000 (in 'model.stan', line 191, column 2 to column 51)\n\tException: model_model_namespace::log_prob: log_theta_high[1][1] is -nan, but must be less than or equal to 0.000000 (in 'model.stan', line 191, column 2 to column 51)\n\tException: model_model_namespace::log_prob: log_theta_high[1][1] is -nan, but must be less than or equal to 0.000000 (in 'model.stan', line 191, column 2 to column 51)\n\tException: model_model_namespace::log_prob: log_theta_low[1][1] is -nan, but must be less than or equal to 0.000000 (in 'model.stan', line 190, column 2 to column 50)\n\tException: model_model_namespace::log_prob: log_theta_low[1][1] is -nan, but must be less than or equal to 0.000000 (in 'model.stan', line 190, column 2 to column 50)\n\tException: model_model_namespace::log_prob: log_theta_high[1][1] is -nan, but must be less than or equal to 0.000000 (in 'model.stan', line 191, column 2 to column 51)\n\tException: model_model_namespace::log_prob: log_theta_high[1][1] is -nan, but must be less than or equal to 0.000000 (in 'model.stan', line 191, column 2 to column 51)\n\tException: model_model_namespace::log_prob: log_theta_high[1][1] is -nan, but must be less than or equal to 0.000000 (in 'model.stan', line 191, column 2 to column 51)\n\tException: model_model_namespace::log_prob: log_theta_low[1][1] is -nan, but must be less than or equal to 0.000000 (in 'model.stan', line 190, column 2 to column 50)\n\tException: model_model_namespace::log_prob: log_theta_high[1][1] is -nan, but must be less than or equal to 0.000000 (in 'model.stan', line 191, column 2 to column 51)\n\tException: model_model_namespace::log_prob: log_theta_high[1][1] is -nan, but must be less than or equal to 0.000000 (in 'model.stan', line 191, column 2 to column 51)\n\tException: model_model_namespace::log_prob: log_theta_low[1][1] is -nan, but must be less than or equal to 0.000000 (in 'model.stan', line 190, column 2 to column 50)\n\tException: model_model_namespace::log_prob: log_theta_high[1][1] is -nan, but must be less than or equal to 0.000000 (in 'model.stan', line 191, column 2 to column 51)\n\tException: model_model_namespace::log_prob: log_theta_low[1][1] is -nan, but must be less than or equal to 0.000000 (in 'model.stan', line 190, column 2 to column 50)\n\tException: model_model_namespace::log_prob: log_theta_low[1][1] is -nan, but must be less than or equal to 0.000000 (in 'model.stan', line 190, column 2 to column 50)\n\tException: model_model_namespace::log_prob: log_theta_low[2][1] is -nan, but must be less than or equal to 0.000000 (in 'model.stan', line 190, column 2 to column 50)\n\tException: model_model_namespace::log_prob: log_theta_low[1][1] is -nan, but must be less than or equal to 0.000000 (in 'model.stan', line 190, column 2 to column 50)\n\tException: model_model_namespace::log_prob: log_theta_low[1][1] is -nan, but must be less than or equal to 0.000000 (in 'model.stan', line 190, column 2 to column 50)\n\tException: model_model_namespace::log_prob: log_theta_low[1][1] is -nan, but must be less than or equal to 0.000000 (in 'model.stan', line 190, column 2 to column 50)\n\tException: model_model_namespace::log_prob: log_theta_low[1][1] is -nan, but must be less than or equal to 0.000000 (in 'model.stan', line 190, column 2 to column 50)\n\tException: model_model_namespace::log_prob: log_theta_low[1][1] is -nan, but must be less than or equal to 0.000000 (in 'model.stan', line 190, column 2 to column 50)\n\tException: model_model_namespace::log_prob: log_theta_low[1][1] is -nan, but must be less than or equal to 0.000000 (in 'model.stan', line 190, column 2 to column 50)\n\tException: model_model_namespace::log_prob: log_theta_high[1][1] is -nan, but must be less than or equal to 0.000000 (in 'model.stan', line 191, column 2 to column 51)\n\tException: model_model_namespace::log_prob: log_theta_high[1][1] is -nan, but must be less than or equal to 0.000000 (in 'model.stan', line 191, column 2 to column 51)\n\tException: model_model_namespace::log_prob: log_theta_high[1][1] is -nan, but must be less than or equal to 0.000000 (in 'model.stan', line 191, column 2 to column 51)\n\tException: model_model_namespace::log_prob: log_theta_high[1][1] is -nan, but must be less than or equal to 0.000000 (in 'model.stan', line 191, column 2 to column 51)\n\tException: model_model_namespace::log_prob: log_theta_low[1][1] is -nan, but must be less than or equal to 0.000000 (in 'model.stan', line 190, column 2 to column 50)\n\tException: model_model_namespace::log_prob: log_theta_low[1][1] is -nan, but must be less than or equal to 0.000000 (in 'model.stan', line 190, column 2 to column 50)\n\tException: model_model_namespace::log_prob: log_theta_low[1][1] is -nan, but must be less than or equal to 0.000000 (in 'model.stan', line 190, column 2 to column 50)\n\tException: model_model_namespace::log_prob: log_theta_low[1][1] is -nan, but must be less than or equal to 0.000000 (in 'model.stan', line 190, column 2 to column 50)\nCommand and output files:\nRunSet: chains=4, chain_ids=[1, 2, 3, 4], num_processes=1\n cmd (chain 1):\n\t['/home/bwittmann/GitRepos/SciStanPy/tmp/model', 'id=1', 'random', 'seed=3000894797', 'data', 'file=tmp/data.json', 'output', 'file=/home/bwittmann/GitRepos/SciStanPy/tmp/model-20250924162716.csv', 'method=sample', 'algorithm=hmc', 'adapt', 'engaged=1', 'num_chains=4']\n retcodes=[1]\n per-chain output files (showing chain 1 only):\n csv_file:\n\t/home/bwittmann/GitRepos/SciStanPy/tmp/model-20250924162716_1.csv\n console_msgs (if any):\n\t/home/bwittmann/GitRepos/SciStanPy/tmp/model-20250924162716-stdout.txt\nConsider re-running with show_console=True if the above output is unclear!"
     ]
    }
   ],
   "source": [
    "model.mcmc(output_dir = \"tmp\", force_compile=True)"
   ]
  },
  {
   "cell_type": "code",
   "execution_count": null,
   "metadata": {},
   "outputs": [],
   "source": []
  }
 ],
 "metadata": {
  "kernelspec": {
   "display_name": "scistanpy",
   "language": "python",
   "name": "python3"
  },
  "language_info": {
   "codemirror_mode": {
    "name": "ipython",
    "version": 3
   },
   "file_extension": ".py",
   "mimetype": "text/x-python",
   "name": "python",
   "nbconvert_exporter": "python",
   "pygments_lexer": "ipython3",
   "version": "3.12.11"
  }
 },
 "nbformat": 4,
 "nbformat_minor": 2
}
